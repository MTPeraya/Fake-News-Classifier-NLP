{
 "cells": [
  {
   "cell_type": "markdown",
   "id": "55fac743",
   "metadata": {},
   "source": [
    "# 1\\. Data Loading and Preparation"
   ]
  },
  {
   "cell_type": "markdown",
   "id": "f98c1ecd",
   "metadata": {},
   "source": [
    "Start by importing the essential python libraries."
   ]
  },
  {
   "cell_type": "code",
   "execution_count": 12,
   "id": "5ce241ae",
   "metadata": {},
   "outputs": [],
   "source": [
    "import pandas as pd\n",
    "import numpy as np"
   ]
  },
  {
   "cell_type": "markdown",
   "id": "1d6e0483",
   "metadata": {},
   "source": [
    "Load the two CSV files from data folder."
   ]
  },
  {
   "cell_type": "code",
   "execution_count": 13,
   "id": "161a23f9",
   "metadata": {},
   "outputs": [],
   "source": [
    "df_fake = pd.read_csv('../data/raw/Fake.csv')\n",
    "df_real = pd.read_csv('../data/raw/True.csv')"
   ]
  },
  {
   "cell_type": "markdown",
   "id": "1c47a335",
   "metadata": {},
   "source": [
    "Create the Target Variable: Assign a clear label to each dataset so I can tell them apart. This is my target variable, which I will eventually predict.\n",
    "\n",
    "Fake News: Assign the label 0.\n",
    "\n",
    "Real News: Assign the label 1."
   ]
  },
  {
   "cell_type": "code",
   "execution_count": 14,
   "id": "14e9b33d",
   "metadata": {},
   "outputs": [],
   "source": [
    "df_fake['label'] = 0\n",
    "df_real['label'] = 1"
   ]
  },
  {
   "cell_type": "markdown",
   "id": "cfba524a",
   "metadata": {},
   "source": [
    "Combine DataFrames: Stack the two data sets into a single DataFrame.\n",
    "\n",
    "Initial Inspection: Check the structure, size, and data types."
   ]
  },
  {
   "cell_type": "code",
   "execution_count": 15,
   "id": "0d46e84f",
   "metadata": {},
   "outputs": [
    {
     "name": "stdout",
     "output_type": "stream",
     "text": [
      "(44898, 5)\n",
      "<class 'pandas.core.frame.DataFrame'>\n",
      "RangeIndex: 44898 entries, 0 to 44897\n",
      "Data columns (total 5 columns):\n",
      " #   Column   Non-Null Count  Dtype \n",
      "---  ------   --------------  ----- \n",
      " 0   title    44898 non-null  object\n",
      " 1   text     44898 non-null  object\n",
      " 2   subject  44898 non-null  object\n",
      " 3   date     44898 non-null  object\n",
      " 4   label    44898 non-null  int64 \n",
      "dtypes: int64(1), object(4)\n",
      "memory usage: 1.7+ MB\n",
      "None\n",
      "label\n",
      "0    23481\n",
      "1    21417\n",
      "Name: count, dtype: int64\n"
     ]
    }
   ],
   "source": [
    "df = pd.concat([df_fake, df_real], ignore_index=True)\n",
    "print(df.shape)\n",
    "print(df.info())\n",
    "print(df['label'].value_counts()) # Check for class imbalance!"
   ]
  },
  {
   "cell_type": "markdown",
   "id": "eba2f6d1",
   "metadata": {},
   "source": [
    "# 2\\. Initial Data Cleaning "
   ]
  },
  {
   "cell_type": "markdown",
   "id": "81f6c884",
   "metadata": {},
   "source": [
    "Drop Unnecessary/Redundant Columns: The title and text are the primary predictive features.drop subject and date for the initial model, which can be combine them later."
   ]
  },
  {
   "cell_type": "code",
   "execution_count": 16,
   "id": "fc4a1cc9",
   "metadata": {},
   "outputs": [],
   "source": [
    "df = df.drop(['subject', 'date'], axis=1)"
   ]
  },
  {
   "cell_type": "markdown",
   "id": "f1231e5c",
   "metadata": {},
   "source": [
    "Handle Duplicates: Since these are news articles, identical entries are likely mistakes. Remove all duplicates to ensure a clean dataset."
   ]
  },
  {
   "cell_type": "code",
   "execution_count": 17,
   "id": "01dac615",
   "metadata": {},
   "outputs": [],
   "source": [
    "df.drop_duplicates(inplace=True)\n",
    "df.reset_index(drop=True, inplace=True)"
   ]
  },
  {
   "cell_type": "markdown",
   "id": "eb185181",
   "metadata": {},
   "source": [
    "Check Missing Values: Confirm that no key columns (title, text, label) have missing values (NaN)."
   ]
  },
  {
   "cell_type": "code",
   "execution_count": 18,
   "id": "3fa0d71a",
   "metadata": {},
   "outputs": [
    {
     "name": "stdout",
     "output_type": "stream",
     "text": [
      "title    0\n",
      "text     0\n",
      "label    0\n",
      "dtype: int64\n"
     ]
    }
   ],
   "source": [
    "print(df.isnull().sum())"
   ]
  },
  {
   "cell_type": "markdown",
   "id": "791e0c74",
   "metadata": {},
   "source": [
    "Combine Text Fields: For the classification model, it's good to combine the information from the title and the full text into one feature."
   ]
  },
  {
   "cell_type": "code",
   "execution_count": 19,
   "id": "9182c75e",
   "metadata": {},
   "outputs": [],
   "source": [
    "df['full_text'] = df['title'] + ' ' + df['text']\n",
    "df = df.drop(['title', 'text'], axis=1) # Drop the originals"
   ]
  }
 ],
 "metadata": {
  "kernelspec": {
   "display_name": "Python 3",
   "language": "python",
   "name": "python3"
  },
  "language_info": {
   "codemirror_mode": {
    "name": "ipython",
    "version": 3
   },
   "file_extension": ".py",
   "mimetype": "text/x-python",
   "name": "python",
   "nbconvert_exporter": "python",
   "pygments_lexer": "ipython3",
   "version": "3.12.3"
  }
 },
 "nbformat": 4,
 "nbformat_minor": 5
}
