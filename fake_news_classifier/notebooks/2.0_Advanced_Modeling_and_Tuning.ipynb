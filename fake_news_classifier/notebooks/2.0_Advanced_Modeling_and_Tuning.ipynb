{
 "cells": [
  {
   "cell_type": "markdown",
   "id": "4a0cbc15",
   "metadata": {},
   "source": [
    "## 2.0 Predictive Modeling: Vectorization, Baseline, and Tuning\n",
    "\n",
    "### 1. Data Loading and Initial Setup\n",
    "* *Load the processed `cleaned_news_data.csv`.*\n",
    "* *Verify data types and class balance.*\n",
    "\n",
    "### 2. Feature Vectorization (TF-IDF)\n",
    "* Split Data: **Train-Test-Split** and Stratification.\n",
    "* **TF-IDF Implementation** (Fit on Train, Transform on Test).\n",
    "* *Check the shape and sparsity of the resulting feature matrix.*\n",
    "\n",
    "### 3. Baseline Model: Logistic Regression\n",
    "* Model Training and Initial Prediction.\n",
    "* **Model Evaluation:** AUC-ROC and Classification Report.\n",
    "* **Feature Importance Analysis** (Top 10 Positive/Negative Coefficients).\n",
    "\n",
    "### 4. Advanced Modeling: Gradient Boosting (XGBoost)\n",
    "* XGBoost Model Training (First Pass).\n",
    "* *Comparison with Baseline AUC-ROC.*\n",
    "\n",
    "### 5. Hyperparameter Tuning and Optimization\n",
    "* Defining the Hyperparameter Search Space.\n",
    "* **Grid Search or Randomized Search Implementation.**\n",
    "* *Identify best model parameters.* \n",
    "\n",
    "### 6. Final Model Selection and Artifact Saving\n",
    "* **Final Model Evaluation:** Metrics of the Tuned Model.\n",
    "* **Confusion Matrix Visualization.**\n",
    "* **Saving Model and Vectorizer** (`.joblib` or `.pkl`).\n",
    "\n",
    "---"
   ]
  },
  {
   "cell_type": "markdown",
   "id": "42fdcf59",
   "metadata": {},
   "source": [
    "### 1. Data Loading and Feature Vectorization (TF-IDF)\n",
    "This section loads cleaned data, splits it for testing, and converts the text into a numerical matrix."
   ]
  },
  {
   "cell_type": "code",
   "execution_count": 59,
   "id": "ac307145",
   "metadata": {},
   "outputs": [
    {
     "name": "stdout",
     "output_type": "stream",
     "text": [
      "Cleaned data loaded successfully.\n"
     ]
    }
   ],
   "source": [
    "import pandas as pd\n",
    "from sklearn.model_selection import train_test_split\n",
    "from sklearn.feature_extraction.text import TfidfVectorizer\n",
    "from sklearn.linear_model import LogisticRegression\n",
    "from sklearn.metrics import classification_report, roc_auc_score\n",
    "\n",
    "# 1. Load Cleaned Data\n",
    "try:\n",
    "    # Adjust path if necessary based on where you run the notebook\n",
    "    df = pd.read_csv('../data/processed/cleaned_news_data.csv')\n",
    "    print(\"Cleaned data loaded successfully.\")\n",
    "except FileNotFoundError:\n",
    "    print(\"Error: Cleaned data file not found. Ensure it's saved in 'data/processed/'.\")\n",
    "    exit()\n",
    "\n",
    "# Drop rows where cleaned_text might be unexpectedly null (if any were created by cleaning)\n",
    "df.dropna(subset=['cleaned_text'], inplace=True)\n",
    "\n",
    "# Define Features (X) and Target (y)\n",
    "X = df['cleaned_text']\n",
    "y = df['label']"
   ]
  },
  {
   "cell_type": "code",
   "execution_count": 60,
   "id": "ddb99b74",
   "metadata": {},
   "outputs": [
    {
     "name": "stdout",
     "output_type": "stream",
     "text": [
      "\n",
      "Training set size: 31280 samples\n",
      "Testing set size: 7820 samples\n",
      "\n",
      "TF-IDF Matrix Shape (Train): (31280, 25000)\n",
      "TF-IDF Matrix Shape (Test): (7820, 25000)\n"
     ]
    }
   ],
   "source": [
    "# 2. Split Data: Train-Test-Split (80% Train, 20% Test)\n",
    "# Use stratify to ensure the label balance is maintained in both sets\n",
    "X_train, X_test, y_train, y_test = train_test_split(\n",
    "    X, y, \n",
    "    test_size=0.2, \n",
    "    stratify=y, \n",
    "    random_state=42\n",
    ")\n",
    "print(f\"\\nTraining set size: {X_train.shape[0]} samples\")\n",
    "print(f\"Testing set size: {X_test.shape[0]} samples\")\n",
    "\n",
    "# 3. Feature Vectorization (TF-IDF)\n",
    "# max_features limits the vocabulary size, improving speed and reducing noise\n",
    "tfidf_vectorizer = TfidfVectorizer(max_features=25000, ngram_range=(1, 3)) \n",
    "\n",
    "# Fit and transform the training data\n",
    "X_train_tfidf = tfidf_vectorizer.fit_transform(X_train)\n",
    "\n",
    "# Transform the test data using the fitted vectorizer\n",
    "X_test_tfidf = tfidf_vectorizer.transform(X_test)\n",
    "\n",
    "print(f\"\\nTF-IDF Matrix Shape (Train): {X_train_tfidf.shape}\")\n",
    "print(f\"TF-IDF Matrix Shape (Test): {X_test_tfidf.shape}\")"
   ]
  },
  {
   "cell_type": "markdown",
   "id": "cca7a395",
   "metadata": {},
   "source": [
    "### 2. Baseline Model: Logistic Regression 🎯\n",
    "Now that your data is numerical, let's train the fast, interpretable Logistic Regression model."
   ]
  },
  {
   "cell_type": "code",
   "execution_count": 61,
   "id": "3341135e",
   "metadata": {},
   "outputs": [
    {
     "name": "stdout",
     "output_type": "stream",
     "text": [
      "\n",
      "--- Training Logistic Regression Baseline ---\n",
      "\n",
      "--- Baseline Model Performance (Logistic Regression) ---\n",
      "AUC-ROC Score: 0.9991\n",
      "\n",
      "Classification Report:\n",
      "              precision    recall  f1-score   support\n",
      "\n",
      "    Fake (0)       0.99      0.98      0.99      3581\n",
      "    Real (1)       0.98      0.99      0.99      4239\n",
      "\n",
      "    accuracy                           0.99      7820\n",
      "   macro avg       0.99      0.99      0.99      7820\n",
      "weighted avg       0.99      0.99      0.99      7820\n",
      "\n"
     ]
    }
   ],
   "source": [
    "# 1. Train the Baseline Model\n",
    "print(\"\\n--- Training Logistic Regression Baseline ---\")\n",
    "lr_model = LogisticRegression(max_iter=1000, solver='liblinear', random_state=42)\n",
    "lr_model.fit(X_train_tfidf, y_train)\n",
    "\n",
    "# 2. Predict on the test set\n",
    "y_pred_lr = lr_model.predict(X_test_tfidf)\n",
    "y_pred_proba_lr = lr_model.predict_proba(X_test_tfidf)[:, 1]\n",
    "\n",
    "# 3. Model Evaluation (Refining P&S)\n",
    "print(\"\\n--- Baseline Model Performance (Logistic Regression) ---\")\n",
    "\n",
    "# AUC-ROC Score\n",
    "auc_roc_lr = roc_auc_score(y_test, y_pred_proba_lr)\n",
    "print(f\"AUC-ROC Score: {auc_roc_lr:.4f}\")\n",
    "\n",
    "# Classification Report\n",
    "print(\"\\nClassification Report:\")\n",
    "print(classification_report(y_test, y_pred_lr, target_names=['Fake (0)', 'Real (1)']))"
   ]
  },
  {
   "cell_type": "markdown",
   "id": "f3b5fc96",
   "metadata": {},
   "source": [
    "### Interpretation Check (Critical)\n",
    "\n",
    "This step extracts the top words the model learned."
   ]
  },
  {
   "cell_type": "code",
   "execution_count": 62,
   "id": "651aa0a8",
   "metadata": {},
   "outputs": [
    {
     "name": "stdout",
     "output_type": "stream",
     "text": [
      "\n",
      "--- Top 10 Features Predicting REAL News (Positive Coefficients) ---\n",
      "                      feature  coefficient\n",
      "17700                 reuters    18.949804\n",
      "18360                    said    17.211532\n",
      "23957      washington reuters     7.950288\n",
      "23949              washington     4.842826\n",
      "24082               wednesday     4.512013\n",
      "22887                 tuesday     4.475510\n",
      "15965  president donald trump     4.217668\n",
      "15964        president donald     4.161981\n",
      "21822                thursday     4.063605\n",
      "8021                   friday     3.662869\n",
      "\n",
      "--- Top 10 Features Predicting FAKE News (Negative Coefficients) ---\n",
      "               feature  coefficient\n",
      "11738             like    -4.100373\n",
      "6770              even    -4.443692\n",
      "9724         image via    -4.663804\n",
      "16047  president trump    -4.667359\n",
      "14132            obama    -4.818003\n",
      "9242           hillary    -5.199878\n",
      "8517               gop    -5.205607\n",
      "23521              via    -7.856727\n",
      "9708             image    -8.116402\n",
      "23590            video    -9.345774\n"
     ]
    }
   ],
   "source": [
    "# Get feature names and model coefficients\n",
    "feature_names = tfidf_vectorizer.get_feature_names_out()\n",
    "coefficients = lr_model.coef_[0]\n",
    "\n",
    "# Combine names and coefficients into a DataFrame\n",
    "coef_df = pd.DataFrame({'feature': feature_names, 'coefficient': coefficients})\n",
    "\n",
    "# Sort by coefficient magnitude\n",
    "coef_df.sort_values(by='coefficient', ascending=False, inplace=True)\n",
    "\n",
    "print(\"\\n--- Top 10 Features Predicting REAL News (Positive Coefficients) ---\")\n",
    "print(coef_df.head(10))\n",
    "\n",
    "print(\"\\n--- Top 10 Features Predicting FAKE News (Negative Coefficients) ---\")\n",
    "print(coef_df.tail(10))"
   ]
  },
  {
   "cell_type": "markdown",
   "id": "0d30872a",
   "metadata": {},
   "source": [
    "### 4. Advanced Modeling: Gradient Boosting (XGBoost)\n",
    "\n",
    "XGBoost is often superior for structured data and can handle the complexity of your sparse TF-IDF features better than a linear model. We'll train a basic version first and compare its performance to the baseline.\n",
    "Python"
   ]
  },
  {
   "cell_type": "code",
   "execution_count": 63,
   "id": "c814e4b9",
   "metadata": {},
   "outputs": [
    {
     "name": "stdout",
     "output_type": "stream",
     "text": [
      "\n",
      "--- Training XGBoost Model (First Pass) ---\n"
     ]
    },
    {
     "name": "stderr",
     "output_type": "stream",
     "text": [
      "/Library/Frameworks/Python.framework/Versions/3.12/lib/python3.12/site-packages/xgboost/training.py:199: UserWarning: [23:12:53] WARNING: /Users/runner/work/xgboost/xgboost/src/learner.cc:790: \n",
      "Parameters: { \"use_label_encoder\" } are not used.\n",
      "\n",
      "  bst.update(dtrain, iteration=i, fobj=obj)\n"
     ]
    },
    {
     "name": "stdout",
     "output_type": "stream",
     "text": [
      "\n",
      "Baseline Logistic Regression AUC-ROC: 0.9991\n",
      "XGBoost First Pass AUC-ROC: 0.9996\n",
      "✅ XGBoost provides an immediate improvement over the baseline!\n"
     ]
    }
   ],
   "source": [
    "# Import the XGBoost classifier\n",
    "import xgboost as xgb\n",
    "\n",
    "print(\"\\n--- Training XGBoost Model (First Pass) ---\")\n",
    "\n",
    "# Initialize and train the XGBoost classifier\n",
    "# Use verbosity=0 to suppress excessive output during training\n",
    "xgb_model = xgb.XGBClassifier(\n",
    "    objective='binary:logistic', \n",
    "    use_label_encoder=False, \n",
    "    eval_metric='logloss', \n",
    "    random_state=42, \n",
    "    n_estimators=100\n",
    ")\n",
    "\n",
    "# NOTE: Training time for XGBoost on sparse data can be significant\n",
    "xgb_model.fit(X_train_tfidf, y_train)\n",
    "\n",
    "# Predict probabilities and calculate AUC-ROC\n",
    "y_pred_proba_xgb = xgb_model.predict_proba(X_test_tfidf)[:, 1]\n",
    "auc_roc_xgb = roc_auc_score(y_test, y_pred_proba_xgb)\n",
    "\n",
    "print(f\"\\nBaseline Logistic Regression AUC-ROC: {auc_roc_lr:.4f}\")\n",
    "print(f\"XGBoost First Pass AUC-ROC: {auc_roc_xgb:.4f}\")\n",
    "\n",
    "if auc_roc_xgb > auc_roc_lr:\n",
    "    print(\"✅ XGBoost provides an immediate improvement over the baseline!\")\n",
    "else:\n",
    "    print(\"⚠️ XGBoost is slightly behind the baseline, but tuning may change this.\")\n"
   ]
  },
  {
   "cell_type": "markdown",
   "id": "01d3f265",
   "metadata": {},
   "source": [
    "### 5. Hyperparameter Tuning and Optimization\n",
    "\n",
    "Use Randomized Search to quickly find a good combination of parameters for the XGBoost model, as a full Grid Search on text data is often too time-consuming.\n",
    "Python\n"
   ]
  },
  {
   "cell_type": "code",
   "execution_count": 64,
   "id": "bcb177ac",
   "metadata": {},
   "outputs": [
    {
     "name": "stdout",
     "output_type": "stream",
     "text": [
      "\n",
      "--- Hyperparameter Tuning (Randomized Search) ---\n",
      "Fitting 3 folds for each of 20 candidates, totalling 60 fits\n"
     ]
    },
    {
     "name": "stderr",
     "output_type": "stream",
     "text": [
      "/Library/Frameworks/Python.framework/Versions/3.12/lib/python3.12/site-packages/xgboost/training.py:199: UserWarning: [23:13:30] WARNING: /Users/runner/work/xgboost/xgboost/src/learner.cc:790: \n",
      "Parameters: { \"use_label_encoder\" } are not used.\n",
      "\n",
      "  bst.update(dtrain, iteration=i, fobj=obj)\n",
      "/Library/Frameworks/Python.framework/Versions/3.12/lib/python3.12/site-packages/xgboost/training.py:199: UserWarning: [23:13:30] WARNING: /Users/runner/work/xgboost/xgboost/src/learner.cc:790: \n",
      "Parameters: { \"use_label_encoder\" } are not used.\n",
      "\n",
      "  bst.update(dtrain, iteration=i, fobj=obj)\n",
      "/Library/Frameworks/Python.framework/Versions/3.12/lib/python3.12/site-packages/xgboost/training.py:199: UserWarning: [23:13:30] WARNING: /Users/runner/work/xgboost/xgboost/src/learner.cc:790: \n",
      "Parameters: { \"use_label_encoder\" } are not used.\n",
      "\n",
      "  bst.update(dtrain, iteration=i, fobj=obj)\n",
      "/Library/Frameworks/Python.framework/Versions/3.12/lib/python3.12/site-packages/xgboost/training.py:199: UserWarning: [23:13:30] WARNING: /Users/runner/work/xgboost/xgboost/src/learner.cc:790: \n",
      "Parameters: { \"use_label_encoder\" } are not used.\n",
      "\n",
      "  bst.update(dtrain, iteration=i, fobj=obj)\n",
      "/Library/Frameworks/Python.framework/Versions/3.12/lib/python3.12/site-packages/xgboost/training.py:199: UserWarning: [23:13:31] WARNING: /Users/runner/work/xgboost/xgboost/src/learner.cc:790: \n",
      "Parameters: { \"use_label_encoder\" } are not used.\n",
      "\n",
      "  bst.update(dtrain, iteration=i, fobj=obj)\n",
      "/Library/Frameworks/Python.framework/Versions/3.12/lib/python3.12/site-packages/xgboost/training.py:199: UserWarning: [23:13:31] WARNING: /Users/runner/work/xgboost/xgboost/src/learner.cc:790: \n",
      "Parameters: { \"use_label_encoder\" } are not used.\n",
      "\n",
      "  bst.update(dtrain, iteration=i, fobj=obj)\n",
      "/Library/Frameworks/Python.framework/Versions/3.12/lib/python3.12/site-packages/xgboost/training.py:199: UserWarning: [23:13:31] WARNING: /Users/runner/work/xgboost/xgboost/src/learner.cc:790: \n",
      "Parameters: { \"use_label_encoder\" } are not used.\n",
      "\n",
      "  bst.update(dtrain, iteration=i, fobj=obj)\n",
      "/Library/Frameworks/Python.framework/Versions/3.12/lib/python3.12/site-packages/xgboost/training.py:199: UserWarning: [23:13:31] WARNING: /Users/runner/work/xgboost/xgboost/src/learner.cc:790: \n",
      "Parameters: { \"use_label_encoder\" } are not used.\n",
      "\n",
      "  bst.update(dtrain, iteration=i, fobj=obj)\n"
     ]
    },
    {
     "name": "stdout",
     "output_type": "stream",
     "text": [
      "[CV] END gamma=0.1, learning_rate=0.2, max_depth=7, n_estimators=300, subsample=1.0; total time= 3.6min\n"
     ]
    },
    {
     "name": "stderr",
     "output_type": "stream",
     "text": [
      "/Library/Frameworks/Python.framework/Versions/3.12/lib/python3.12/site-packages/xgboost/training.py:199: UserWarning: [23:17:11] WARNING: /Users/runner/work/xgboost/xgboost/src/learner.cc:790: \n",
      "Parameters: { \"use_label_encoder\" } are not used.\n",
      "\n",
      "  bst.update(dtrain, iteration=i, fobj=obj)\n"
     ]
    },
    {
     "name": "stdout",
     "output_type": "stream",
     "text": [
      "[CV] END gamma=0.1, learning_rate=0.2, max_depth=7, n_estimators=300, subsample=1.0; total time= 4.0min\n"
     ]
    },
    {
     "name": "stderr",
     "output_type": "stream",
     "text": [
      "/Library/Frameworks/Python.framework/Versions/3.12/lib/python3.12/site-packages/xgboost/training.py:199: UserWarning: [23:17:32] WARNING: /Users/runner/work/xgboost/xgboost/src/learner.cc:790: \n",
      "Parameters: { \"use_label_encoder\" } are not used.\n",
      "\n",
      "  bst.update(dtrain, iteration=i, fobj=obj)\n"
     ]
    },
    {
     "name": "stdout",
     "output_type": "stream",
     "text": [
      "[CV] END gamma=0.5, learning_rate=0.2, max_depth=7, n_estimators=300, subsample=0.9; total time= 3.6min\n"
     ]
    },
    {
     "name": "stderr",
     "output_type": "stream",
     "text": [
      "/Library/Frameworks/Python.framework/Versions/3.12/lib/python3.12/site-packages/xgboost/training.py:199: UserWarning: [23:21:11] WARNING: /Users/runner/work/xgboost/xgboost/src/learner.cc:790: \n",
      "Parameters: { \"use_label_encoder\" } are not used.\n",
      "\n",
      "  bst.update(dtrain, iteration=i, fobj=obj)\n"
     ]
    },
    {
     "name": "stdout",
     "output_type": "stream",
     "text": [
      "[CV] END gamma=0, learning_rate=0.05, max_depth=5, n_estimators=300, subsample=0.7; total time= 7.9min\n"
     ]
    },
    {
     "name": "stderr",
     "output_type": "stream",
     "text": [
      "/Library/Frameworks/Python.framework/Versions/3.12/lib/python3.12/site-packages/xgboost/training.py:199: UserWarning: [23:21:28] WARNING: /Users/runner/work/xgboost/xgboost/src/learner.cc:790: \n",
      "Parameters: { \"use_label_encoder\" } are not used.\n",
      "\n",
      "  bst.update(dtrain, iteration=i, fobj=obj)\n"
     ]
    },
    {
     "name": "stdout",
     "output_type": "stream",
     "text": [
      "[CV] END gamma=0.1, learning_rate=0.2, max_depth=7, n_estimators=300, subsample=1.0; total time= 4.5min\n"
     ]
    },
    {
     "name": "stderr",
     "output_type": "stream",
     "text": [
      "/Library/Frameworks/Python.framework/Versions/3.12/lib/python3.12/site-packages/xgboost/training.py:199: UserWarning: [23:21:42] WARNING: /Users/runner/work/xgboost/xgboost/src/learner.cc:790: \n",
      "Parameters: { \"use_label_encoder\" } are not used.\n",
      "\n",
      "  bst.update(dtrain, iteration=i, fobj=obj)\n"
     ]
    },
    {
     "name": "stdout",
     "output_type": "stream",
     "text": [
      "[CV] END gamma=0, learning_rate=0.05, max_depth=5, n_estimators=300, subsample=0.7; total time= 8.2min\n"
     ]
    },
    {
     "name": "stderr",
     "output_type": "stream",
     "text": [
      "/Library/Frameworks/Python.framework/Versions/3.12/lib/python3.12/site-packages/xgboost/training.py:199: UserWarning: [23:21:46] WARNING: /Users/runner/work/xgboost/xgboost/src/learner.cc:790: \n",
      "Parameters: { \"use_label_encoder\" } are not used.\n",
      "\n",
      "  bst.update(dtrain, iteration=i, fobj=obj)\n"
     ]
    },
    {
     "name": "stdout",
     "output_type": "stream",
     "text": [
      "[CV] END gamma=0, learning_rate=0.05, max_depth=5, n_estimators=300, subsample=0.7; total time= 8.4min\n"
     ]
    },
    {
     "name": "stderr",
     "output_type": "stream",
     "text": [
      "/Library/Frameworks/Python.framework/Versions/3.12/lib/python3.12/site-packages/xgboost/training.py:199: UserWarning: [23:21:53] WARNING: /Users/runner/work/xgboost/xgboost/src/learner.cc:790: \n",
      "Parameters: { \"use_label_encoder\" } are not used.\n",
      "\n",
      "  bst.update(dtrain, iteration=i, fobj=obj)\n"
     ]
    },
    {
     "name": "stdout",
     "output_type": "stream",
     "text": [
      "[CV] END gamma=0.5, learning_rate=0.2, max_depth=7, n_estimators=300, subsample=0.9; total time= 3.0min\n"
     ]
    },
    {
     "name": "stderr",
     "output_type": "stream",
     "text": [
      "/Library/Frameworks/Python.framework/Versions/3.12/lib/python3.12/site-packages/xgboost/training.py:199: UserWarning: [23:24:12] WARNING: /Users/runner/work/xgboost/xgboost/src/learner.cc:790: \n",
      "Parameters: { \"use_label_encoder\" } are not used.\n",
      "\n",
      "  bst.update(dtrain, iteration=i, fobj=obj)\n"
     ]
    },
    {
     "name": "stdout",
     "output_type": "stream",
     "text": [
      "[CV] END gamma=0.5, learning_rate=0.2, max_depth=7, n_estimators=300, subsample=0.9; total time= 3.3min\n"
     ]
    },
    {
     "name": "stderr",
     "output_type": "stream",
     "text": [
      "/Library/Frameworks/Python.framework/Versions/3.12/lib/python3.12/site-packages/xgboost/training.py:199: UserWarning: [23:24:43] WARNING: /Users/runner/work/xgboost/xgboost/src/learner.cc:790: \n",
      "Parameters: { \"use_label_encoder\" } are not used.\n",
      "\n",
      "  bst.update(dtrain, iteration=i, fobj=obj)\n"
     ]
    },
    {
     "name": "stdout",
     "output_type": "stream",
     "text": [
      "[CV] END gamma=0.5, learning_rate=0.2, max_depth=9, n_estimators=200, subsample=0.9; total time= 3.3min\n"
     ]
    },
    {
     "name": "stderr",
     "output_type": "stream",
     "text": [
      "/Library/Frameworks/Python.framework/Versions/3.12/lib/python3.12/site-packages/xgboost/training.py:199: UserWarning: [23:25:03] WARNING: /Users/runner/work/xgboost/xgboost/src/learner.cc:790: \n",
      "Parameters: { \"use_label_encoder\" } are not used.\n",
      "\n",
      "  bst.update(dtrain, iteration=i, fobj=obj)\n"
     ]
    },
    {
     "name": "stdout",
     "output_type": "stream",
     "text": [
      "[CV] END gamma=0.5, learning_rate=0.2, max_depth=9, n_estimators=200, subsample=0.9; total time= 3.6min\n"
     ]
    },
    {
     "name": "stderr",
     "output_type": "stream",
     "text": [
      "/Library/Frameworks/Python.framework/Versions/3.12/lib/python3.12/site-packages/xgboost/training.py:199: UserWarning: [23:25:16] WARNING: /Users/runner/work/xgboost/xgboost/src/learner.cc:790: \n",
      "Parameters: { \"use_label_encoder\" } are not used.\n",
      "\n",
      "  bst.update(dtrain, iteration=i, fobj=obj)\n"
     ]
    },
    {
     "name": "stdout",
     "output_type": "stream",
     "text": [
      "[CV] END gamma=0.5, learning_rate=0.2, max_depth=9, n_estimators=200, subsample=0.9; total time= 3.5min\n"
     ]
    },
    {
     "name": "stderr",
     "output_type": "stream",
     "text": [
      "/Library/Frameworks/Python.framework/Versions/3.12/lib/python3.12/site-packages/xgboost/training.py:199: UserWarning: [23:25:23] WARNING: /Users/runner/work/xgboost/xgboost/src/learner.cc:790: \n",
      "Parameters: { \"use_label_encoder\" } are not used.\n",
      "\n",
      "  bst.update(dtrain, iteration=i, fobj=obj)\n"
     ]
    },
    {
     "name": "stdout",
     "output_type": "stream",
     "text": [
      "[CV] END gamma=0, learning_rate=0.05, max_depth=9, n_estimators=300, subsample=0.7; total time=13.0min\n"
     ]
    },
    {
     "name": "stderr",
     "output_type": "stream",
     "text": [
      "/Library/Frameworks/Python.framework/Versions/3.12/lib/python3.12/site-packages/xgboost/training.py:199: UserWarning: [23:26:32] WARNING: /Users/runner/work/xgboost/xgboost/src/learner.cc:790: \n",
      "Parameters: { \"use_label_encoder\" } are not used.\n",
      "\n",
      "  bst.update(dtrain, iteration=i, fobj=obj)\n"
     ]
    },
    {
     "name": "stdout",
     "output_type": "stream",
     "text": [
      "[CV] END gamma=0, learning_rate=0.05, max_depth=9, n_estimators=300, subsample=0.7; total time=13.6min\n",
      "[CV] END gamma=0, learning_rate=0.05, max_depth=9, n_estimators=300, subsample=0.7; total time=13.6min\n"
     ]
    },
    {
     "name": "stderr",
     "output_type": "stream",
     "text": [
      "/Library/Frameworks/Python.framework/Versions/3.12/lib/python3.12/site-packages/xgboost/training.py:199: UserWarning: [23:27:08] WARNING: /Users/runner/work/xgboost/xgboost/src/learner.cc:790: \n",
      "Parameters: { \"use_label_encoder\" } are not used.\n",
      "\n",
      "  bst.update(dtrain, iteration=i, fobj=obj)\n",
      "/Library/Frameworks/Python.framework/Versions/3.12/lib/python3.12/site-packages/xgboost/training.py:199: UserWarning: [23:27:10] WARNING: /Users/runner/work/xgboost/xgboost/src/learner.cc:790: \n",
      "Parameters: { \"use_label_encoder\" } are not used.\n",
      "\n",
      "  bst.update(dtrain, iteration=i, fobj=obj)\n"
     ]
    },
    {
     "name": "stdout",
     "output_type": "stream",
     "text": [
      "[CV] END gamma=0.1, learning_rate=0.2, max_depth=7, n_estimators=300, subsample=0.7; total time= 4.0min\n"
     ]
    },
    {
     "name": "stderr",
     "output_type": "stream",
     "text": [
      "/Library/Frameworks/Python.framework/Versions/3.12/lib/python3.12/site-packages/xgboost/training.py:199: UserWarning: [23:31:09] WARNING: /Users/runner/work/xgboost/xgboost/src/learner.cc:790: \n",
      "Parameters: { \"use_label_encoder\" } are not used.\n",
      "\n",
      "  bst.update(dtrain, iteration=i, fobj=obj)\n"
     ]
    },
    {
     "name": "stdout",
     "output_type": "stream",
     "text": [
      "[CV] END gamma=0.1, learning_rate=0.2, max_depth=7, n_estimators=300, subsample=0.7; total time= 4.0min\n"
     ]
    },
    {
     "name": "stderr",
     "output_type": "stream",
     "text": [
      "/Library/Frameworks/Python.framework/Versions/3.12/lib/python3.12/site-packages/xgboost/training.py:199: UserWarning: [23:31:13] WARNING: /Users/runner/work/xgboost/xgboost/src/learner.cc:790: \n",
      "Parameters: { \"use_label_encoder\" } are not used.\n",
      "\n",
      "  bst.update(dtrain, iteration=i, fobj=obj)\n"
     ]
    },
    {
     "name": "stdout",
     "output_type": "stream",
     "text": [
      "[CV] END gamma=0.5, learning_rate=0.1, max_depth=9, n_estimators=300, subsample=1.0; total time= 6.5min\n"
     ]
    },
    {
     "name": "stderr",
     "output_type": "stream",
     "text": [
      "/Library/Frameworks/Python.framework/Versions/3.12/lib/python3.12/site-packages/xgboost/training.py:199: UserWarning: [23:31:54] WARNING: /Users/runner/work/xgboost/xgboost/src/learner.cc:790: \n",
      "Parameters: { \"use_label_encoder\" } are not used.\n",
      "\n",
      "  bst.update(dtrain, iteration=i, fobj=obj)\n"
     ]
    },
    {
     "name": "stdout",
     "output_type": "stream",
     "text": [
      "[CV] END gamma=0.5, learning_rate=0.1, max_depth=9, n_estimators=300, subsample=1.0; total time= 6.9min\n"
     ]
    },
    {
     "name": "stderr",
     "output_type": "stream",
     "text": [
      "/Library/Frameworks/Python.framework/Versions/3.12/lib/python3.12/site-packages/xgboost/training.py:199: UserWarning: [23:32:11] WARNING: /Users/runner/work/xgboost/xgboost/src/learner.cc:790: \n",
      "Parameters: { \"use_label_encoder\" } are not used.\n",
      "\n",
      "  bst.update(dtrain, iteration=i, fobj=obj)\n"
     ]
    },
    {
     "name": "stdout",
     "output_type": "stream",
     "text": [
      "[CV] END gamma=0.5, learning_rate=0.1, max_depth=9, n_estimators=300, subsample=1.0; total time= 6.9min\n"
     ]
    },
    {
     "name": "stderr",
     "output_type": "stream",
     "text": [
      "/Library/Frameworks/Python.framework/Versions/3.12/lib/python3.12/site-packages/xgboost/training.py:199: UserWarning: [23:33:24] WARNING: /Users/runner/work/xgboost/xgboost/src/learner.cc:790: \n",
      "Parameters: { \"use_label_encoder\" } are not used.\n",
      "\n",
      "  bst.update(dtrain, iteration=i, fobj=obj)\n"
     ]
    },
    {
     "name": "stdout",
     "output_type": "stream",
     "text": [
      "[CV] END gamma=0.5, learning_rate=0.05, max_depth=7, n_estimators=200, subsample=0.9; total time= 9.4min\n"
     ]
    },
    {
     "name": "stderr",
     "output_type": "stream",
     "text": [
      "/Library/Frameworks/Python.framework/Versions/3.12/lib/python3.12/site-packages/xgboost/training.py:199: UserWarning: [23:34:07] WARNING: /Users/runner/work/xgboost/xgboost/src/learner.cc:790: \n",
      "Parameters: { \"use_label_encoder\" } are not used.\n",
      "\n",
      "  bst.update(dtrain, iteration=i, fobj=obj)\n"
     ]
    },
    {
     "name": "stdout",
     "output_type": "stream",
     "text": [
      "[CV] END gamma=0.5, learning_rate=0.05, max_depth=7, n_estimators=200, subsample=0.9; total time=10.1min\n"
     ]
    },
    {
     "name": "stderr",
     "output_type": "stream",
     "text": [
      "/Library/Frameworks/Python.framework/Versions/3.12/lib/python3.12/site-packages/xgboost/training.py:199: UserWarning: [23:34:21] WARNING: /Users/runner/work/xgboost/xgboost/src/learner.cc:790: \n",
      "Parameters: { \"use_label_encoder\" } are not used.\n",
      "\n",
      "  bst.update(dtrain, iteration=i, fobj=obj)\n"
     ]
    },
    {
     "name": "stdout",
     "output_type": "stream",
     "text": [
      "[CV] END gamma=0.5, learning_rate=0.05, max_depth=7, n_estimators=200, subsample=0.9; total time= 9.5min\n"
     ]
    },
    {
     "name": "stderr",
     "output_type": "stream",
     "text": [
      "/Library/Frameworks/Python.framework/Versions/3.12/lib/python3.12/site-packages/xgboost/training.py:199: UserWarning: [23:34:32] WARNING: /Users/runner/work/xgboost/xgboost/src/learner.cc:790: \n",
      "Parameters: { \"use_label_encoder\" } are not used.\n",
      "\n",
      "  bst.update(dtrain, iteration=i, fobj=obj)\n"
     ]
    },
    {
     "name": "stdout",
     "output_type": "stream",
     "text": [
      "[CV] END gamma=0.1, learning_rate=0.2, max_depth=7, n_estimators=300, subsample=0.7; total time= 3.6min\n"
     ]
    },
    {
     "name": "stderr",
     "output_type": "stream",
     "text": [
      "/Library/Frameworks/Python.framework/Versions/3.12/lib/python3.12/site-packages/xgboost/training.py:199: UserWarning: [23:34:43] WARNING: /Users/runner/work/xgboost/xgboost/src/learner.cc:790: \n",
      "Parameters: { \"use_label_encoder\" } are not used.\n",
      "\n",
      "  bst.update(dtrain, iteration=i, fobj=obj)\n"
     ]
    },
    {
     "name": "stdout",
     "output_type": "stream",
     "text": [
      "[CV] END gamma=0, learning_rate=0.05, max_depth=7, n_estimators=100, subsample=0.7; total time= 6.2min\n",
      "[CV] END gamma=0, learning_rate=0.05, max_depth=7, n_estimators=100, subsample=0.7; total time= 5.6min\n"
     ]
    },
    {
     "name": "stderr",
     "output_type": "stream",
     "text": [
      "/Library/Frameworks/Python.framework/Versions/3.12/lib/python3.12/site-packages/xgboost/training.py:199: UserWarning: [23:37:27] WARNING: /Users/runner/work/xgboost/xgboost/src/learner.cc:790: \n",
      "Parameters: { \"use_label_encoder\" } are not used.\n",
      "\n",
      "  bst.update(dtrain, iteration=i, fobj=obj)\n"
     ]
    },
    {
     "name": "stdout",
     "output_type": "stream",
     "text": [
      "[CV] END gamma=0.1, learning_rate=0.1, max_depth=5, n_estimators=200, subsample=1.0; total time= 4.2min\n"
     ]
    },
    {
     "name": "stderr",
     "output_type": "stream",
     "text": [
      "/Library/Frameworks/Python.framework/Versions/3.12/lib/python3.12/site-packages/xgboost/training.py:199: UserWarning: [23:37:31] WARNING: /Users/runner/work/xgboost/xgboost/src/learner.cc:790: \n",
      "Parameters: { \"use_label_encoder\" } are not used.\n",
      "\n",
      "  bst.update(dtrain, iteration=i, fobj=obj)\n",
      "/Library/Frameworks/Python.framework/Versions/3.12/lib/python3.12/site-packages/xgboost/training.py:199: UserWarning: [23:37:34] WARNING: /Users/runner/work/xgboost/xgboost/src/learner.cc:790: \n",
      "Parameters: { \"use_label_encoder\" } are not used.\n",
      "\n",
      "  bst.update(dtrain, iteration=i, fobj=obj)\n"
     ]
    },
    {
     "name": "stdout",
     "output_type": "stream",
     "text": [
      "[CV] END gamma=0, learning_rate=0.05, max_depth=7, n_estimators=100, subsample=0.7; total time= 5.9min\n",
      "[CV] END gamma=0.1, learning_rate=0.1, max_depth=5, n_estimators=200, subsample=1.0; total time= 3.9min\n"
     ]
    },
    {
     "name": "stderr",
     "output_type": "stream",
     "text": [
      "/Library/Frameworks/Python.framework/Versions/3.12/lib/python3.12/site-packages/xgboost/training.py:199: UserWarning: [23:38:03] WARNING: /Users/runner/work/xgboost/xgboost/src/learner.cc:790: \n",
      "Parameters: { \"use_label_encoder\" } are not used.\n",
      "\n",
      "  bst.update(dtrain, iteration=i, fobj=obj)\n",
      "/Library/Frameworks/Python.framework/Versions/3.12/lib/python3.12/site-packages/xgboost/training.py:199: UserWarning: [23:38:04] WARNING: /Users/runner/work/xgboost/xgboost/src/learner.cc:790: \n",
      "Parameters: { \"use_label_encoder\" } are not used.\n",
      "\n",
      "  bst.update(dtrain, iteration=i, fobj=obj)\n"
     ]
    },
    {
     "name": "stdout",
     "output_type": "stream",
     "text": [
      "[CV] END gamma=0.1, learning_rate=0.1, max_depth=5, n_estimators=200, subsample=1.0; total time= 3.9min\n"
     ]
    },
    {
     "name": "stderr",
     "output_type": "stream",
     "text": [
      "/Library/Frameworks/Python.framework/Versions/3.12/lib/python3.12/site-packages/xgboost/training.py:199: UserWarning: [23:38:18] WARNING: /Users/runner/work/xgboost/xgboost/src/learner.cc:790: \n",
      "Parameters: { \"use_label_encoder\" } are not used.\n",
      "\n",
      "  bst.update(dtrain, iteration=i, fobj=obj)\n"
     ]
    },
    {
     "name": "stdout",
     "output_type": "stream",
     "text": [
      "[CV] END gamma=0, learning_rate=0.1, max_depth=9, n_estimators=100, subsample=0.7; total time= 5.3min\n"
     ]
    },
    {
     "name": "stderr",
     "output_type": "stream",
     "text": [
      "/Library/Frameworks/Python.framework/Versions/3.12/lib/python3.12/site-packages/xgboost/training.py:199: UserWarning: [23:40:03] WARNING: /Users/runner/work/xgboost/xgboost/src/learner.cc:790: \n",
      "Parameters: { \"use_label_encoder\" } are not used.\n",
      "\n",
      "  bst.update(dtrain, iteration=i, fobj=obj)\n"
     ]
    },
    {
     "name": "stdout",
     "output_type": "stream",
     "text": [
      "[CV] END gamma=0, learning_rate=0.1, max_depth=9, n_estimators=100, subsample=0.7; total time= 5.8min\n"
     ]
    },
    {
     "name": "stderr",
     "output_type": "stream",
     "text": [
      "/Library/Frameworks/Python.framework/Versions/3.12/lib/python3.12/site-packages/xgboost/training.py:199: UserWarning: [23:40:17] WARNING: /Users/runner/work/xgboost/xgboost/src/learner.cc:790: \n",
      "Parameters: { \"use_label_encoder\" } are not used.\n",
      "\n",
      "  bst.update(dtrain, iteration=i, fobj=obj)\n"
     ]
    },
    {
     "name": "stdout",
     "output_type": "stream",
     "text": [
      "[CV] END gamma=0.5, learning_rate=0.2, max_depth=7, n_estimators=100, subsample=1.0; total time= 2.8min\n",
      "[CV] END gamma=0.5, learning_rate=0.2, max_depth=7, n_estimators=100, subsample=1.0; total time= 2.6min\n"
     ]
    },
    {
     "name": "stderr",
     "output_type": "stream",
     "text": [
      "/Library/Frameworks/Python.framework/Versions/3.12/lib/python3.12/site-packages/xgboost/training.py:199: UserWarning: [23:40:50] WARNING: /Users/runner/work/xgboost/xgboost/src/learner.cc:790: \n",
      "Parameters: { \"use_label_encoder\" } are not used.\n",
      "\n",
      "  bst.update(dtrain, iteration=i, fobj=obj)\n",
      "/Library/Frameworks/Python.framework/Versions/3.12/lib/python3.12/site-packages/xgboost/training.py:199: UserWarning: [23:40:52] WARNING: /Users/runner/work/xgboost/xgboost/src/learner.cc:790: \n",
      "Parameters: { \"use_label_encoder\" } are not used.\n",
      "\n",
      "  bst.update(dtrain, iteration=i, fobj=obj)\n"
     ]
    },
    {
     "name": "stdout",
     "output_type": "stream",
     "text": [
      "[CV] END gamma=0.5, learning_rate=0.2, max_depth=7, n_estimators=100, subsample=1.0; total time= 2.7min\n"
     ]
    },
    {
     "name": "stderr",
     "output_type": "stream",
     "text": [
      "/Library/Frameworks/Python.framework/Versions/3.12/lib/python3.12/site-packages/xgboost/training.py:199: UserWarning: [23:42:43] WARNING: /Users/runner/work/xgboost/xgboost/src/learner.cc:790: \n",
      "Parameters: { \"use_label_encoder\" } are not used.\n",
      "\n",
      "  bst.update(dtrain, iteration=i, fobj=obj)\n"
     ]
    },
    {
     "name": "stdout",
     "output_type": "stream",
     "text": [
      "[CV] END gamma=0, learning_rate=0.1, max_depth=9, n_estimators=100, subsample=0.7; total time= 5.8min\n"
     ]
    },
    {
     "name": "stderr",
     "output_type": "stream",
     "text": [
      "/Library/Frameworks/Python.framework/Versions/3.12/lib/python3.12/site-packages/xgboost/training.py:199: UserWarning: [23:43:15] WARNING: /Users/runner/work/xgboost/xgboost/src/learner.cc:790: \n",
      "Parameters: { \"use_label_encoder\" } are not used.\n",
      "\n",
      "  bst.update(dtrain, iteration=i, fobj=obj)\n"
     ]
    },
    {
     "name": "stdout",
     "output_type": "stream",
     "text": [
      "[CV] END gamma=0.5, learning_rate=0.1, max_depth=9, n_estimators=100, subsample=1.0; total time= 5.8min\n"
     ]
    },
    {
     "name": "stderr",
     "output_type": "stream",
     "text": [
      "/Library/Frameworks/Python.framework/Versions/3.12/lib/python3.12/site-packages/xgboost/training.py:199: UserWarning: [23:43:20] WARNING: /Users/runner/work/xgboost/xgboost/src/learner.cc:790: \n",
      "Parameters: { \"use_label_encoder\" } are not used.\n",
      "\n",
      "  bst.update(dtrain, iteration=i, fobj=obj)\n"
     ]
    },
    {
     "name": "stdout",
     "output_type": "stream",
     "text": [
      "[CV] END gamma=0.5, learning_rate=0.1, max_depth=9, n_estimators=100, subsample=1.0; total time= 6.1min\n"
     ]
    },
    {
     "name": "stderr",
     "output_type": "stream",
     "text": [
      "/Library/Frameworks/Python.framework/Versions/3.12/lib/python3.12/site-packages/xgboost/training.py:199: UserWarning: [23:43:35] WARNING: /Users/runner/work/xgboost/xgboost/src/learner.cc:790: \n",
      "Parameters: { \"use_label_encoder\" } are not used.\n",
      "\n",
      "  bst.update(dtrain, iteration=i, fobj=obj)\n"
     ]
    },
    {
     "name": "stdout",
     "output_type": "stream",
     "text": [
      "[CV] END gamma=0.5, learning_rate=0.1, max_depth=9, n_estimators=100, subsample=1.0; total time= 5.7min\n"
     ]
    },
    {
     "name": "stderr",
     "output_type": "stream",
     "text": [
      "/Library/Frameworks/Python.framework/Versions/3.12/lib/python3.12/site-packages/xgboost/training.py:199: UserWarning: [23:43:47] WARNING: /Users/runner/work/xgboost/xgboost/src/learner.cc:790: \n",
      "Parameters: { \"use_label_encoder\" } are not used.\n",
      "\n",
      "  bst.update(dtrain, iteration=i, fobj=obj)\n"
     ]
    },
    {
     "name": "stdout",
     "output_type": "stream",
     "text": [
      "[CV] END gamma=0.1, learning_rate=0.05, max_depth=5, n_estimators=100, subsample=0.9; total time= 4.4min\n"
     ]
    },
    {
     "name": "stderr",
     "output_type": "stream",
     "text": [
      "/Library/Frameworks/Python.framework/Versions/3.12/lib/python3.12/site-packages/xgboost/training.py:199: UserWarning: [23:47:09] WARNING: /Users/runner/work/xgboost/xgboost/src/learner.cc:790: \n",
      "Parameters: { \"use_label_encoder\" } are not used.\n",
      "\n",
      "  bst.update(dtrain, iteration=i, fobj=obj)\n"
     ]
    },
    {
     "name": "stdout",
     "output_type": "stream",
     "text": [
      "[CV] END gamma=0.1, learning_rate=0.05, max_depth=5, n_estimators=100, subsample=0.9; total time= 4.1min\n"
     ]
    },
    {
     "name": "stderr",
     "output_type": "stream",
     "text": [
      "/Library/Frameworks/Python.framework/Versions/3.12/lib/python3.12/site-packages/xgboost/training.py:199: UserWarning: [23:47:22] WARNING: /Users/runner/work/xgboost/xgboost/src/learner.cc:790: \n",
      "Parameters: { \"use_label_encoder\" } are not used.\n",
      "\n",
      "  bst.update(dtrain, iteration=i, fobj=obj)\n"
     ]
    },
    {
     "name": "stdout",
     "output_type": "stream",
     "text": [
      "[CV] END gamma=0.5, learning_rate=0.05, max_depth=5, n_estimators=300, subsample=1.0; total time= 7.3min\n",
      "[CV] END gamma=0.1, learning_rate=0.05, max_depth=5, n_estimators=100, subsample=0.9; total time= 4.3min\n"
     ]
    },
    {
     "name": "stderr",
     "output_type": "stream",
     "text": [
      "/Library/Frameworks/Python.framework/Versions/3.12/lib/python3.12/site-packages/xgboost/training.py:199: UserWarning: [23:47:38] WARNING: /Users/runner/work/xgboost/xgboost/src/learner.cc:790: \n",
      "Parameters: { \"use_label_encoder\" } are not used.\n",
      "\n",
      "  bst.update(dtrain, iteration=i, fobj=obj)\n",
      "/Library/Frameworks/Python.framework/Versions/3.12/lib/python3.12/site-packages/xgboost/training.py:199: UserWarning: [23:47:39] WARNING: /Users/runner/work/xgboost/xgboost/src/learner.cc:790: \n",
      "Parameters: { \"use_label_encoder\" } are not used.\n",
      "\n",
      "  bst.update(dtrain, iteration=i, fobj=obj)\n"
     ]
    },
    {
     "name": "stdout",
     "output_type": "stream",
     "text": [
      "[CV] END gamma=0.5, learning_rate=0.05, max_depth=5, n_estimators=300, subsample=1.0; total time= 6.9min\n"
     ]
    },
    {
     "name": "stderr",
     "output_type": "stream",
     "text": [
      "/Library/Frameworks/Python.framework/Versions/3.12/lib/python3.12/site-packages/xgboost/training.py:199: UserWarning: [23:47:44] WARNING: /Users/runner/work/xgboost/xgboost/src/learner.cc:790: \n",
      "Parameters: { \"use_label_encoder\" } are not used.\n",
      "\n",
      "  bst.update(dtrain, iteration=i, fobj=obj)\n"
     ]
    },
    {
     "name": "stdout",
     "output_type": "stream",
     "text": [
      "[CV] END gamma=0.5, learning_rate=0.05, max_depth=5, n_estimators=300, subsample=1.0; total time= 7.1min\n"
     ]
    },
    {
     "name": "stderr",
     "output_type": "stream",
     "text": [
      "/Library/Frameworks/Python.framework/Versions/3.12/lib/python3.12/site-packages/xgboost/training.py:199: UserWarning: [23:48:00] WARNING: /Users/runner/work/xgboost/xgboost/src/learner.cc:790: \n",
      "Parameters: { \"use_label_encoder\" } are not used.\n",
      "\n",
      "  bst.update(dtrain, iteration=i, fobj=obj)\n"
     ]
    },
    {
     "name": "stdout",
     "output_type": "stream",
     "text": [
      "[CV] END gamma=0.1, learning_rate=0.2, max_depth=9, n_estimators=300, subsample=1.0; total time= 4.7min\n",
      "[CV] END gamma=0.1, learning_rate=0.2, max_depth=9, n_estimators=300, subsample=1.0; total time= 4.6min\n"
     ]
    },
    {
     "name": "stderr",
     "output_type": "stream",
     "text": [
      "/Library/Frameworks/Python.framework/Versions/3.12/lib/python3.12/site-packages/xgboost/training.py:199: UserWarning: [23:48:19] WARNING: /Users/runner/work/xgboost/xgboost/src/learner.cc:790: \n",
      "Parameters: { \"use_label_encoder\" } are not used.\n",
      "\n",
      "  bst.update(dtrain, iteration=i, fobj=obj)\n",
      "/Library/Frameworks/Python.framework/Versions/3.12/lib/python3.12/site-packages/xgboost/training.py:199: UserWarning: [23:48:22] WARNING: /Users/runner/work/xgboost/xgboost/src/learner.cc:790: \n",
      "Parameters: { \"use_label_encoder\" } are not used.\n",
      "\n",
      "  bst.update(dtrain, iteration=i, fobj=obj)\n"
     ]
    },
    {
     "name": "stdout",
     "output_type": "stream",
     "text": [
      "[CV] END gamma=0.5, learning_rate=0.2, max_depth=9, n_estimators=100, subsample=1.0; total time= 3.7min\n"
     ]
    },
    {
     "name": "stderr",
     "output_type": "stream",
     "text": [
      "/Library/Frameworks/Python.framework/Versions/3.12/lib/python3.12/site-packages/xgboost/training.py:199: UserWarning: [23:51:05] WARNING: /Users/runner/work/xgboost/xgboost/src/learner.cc:790: \n",
      "Parameters: { \"use_label_encoder\" } are not used.\n",
      "\n",
      "  bst.update(dtrain, iteration=i, fobj=obj)\n"
     ]
    },
    {
     "name": "stdout",
     "output_type": "stream",
     "text": [
      "[CV] END gamma=0.5, learning_rate=0.2, max_depth=9, n_estimators=100, subsample=1.0; total time= 3.5min\n"
     ]
    },
    {
     "name": "stderr",
     "output_type": "stream",
     "text": [
      "/Library/Frameworks/Python.framework/Versions/3.12/lib/python3.12/site-packages/xgboost/training.py:199: UserWarning: [23:51:11] WARNING: /Users/runner/work/xgboost/xgboost/src/learner.cc:790: \n",
      "Parameters: { \"use_label_encoder\" } are not used.\n",
      "\n",
      "  bst.update(dtrain, iteration=i, fobj=obj)\n"
     ]
    },
    {
     "name": "stdout",
     "output_type": "stream",
     "text": [
      "[CV] END gamma=0.5, learning_rate=0.2, max_depth=9, n_estimators=100, subsample=1.0; total time= 3.7min\n"
     ]
    },
    {
     "name": "stderr",
     "output_type": "stream",
     "text": [
      "/Library/Frameworks/Python.framework/Versions/3.12/lib/python3.12/site-packages/xgboost/training.py:199: UserWarning: [23:51:21] WARNING: /Users/runner/work/xgboost/xgboost/src/learner.cc:790: \n",
      "Parameters: { \"use_label_encoder\" } are not used.\n",
      "\n",
      "  bst.update(dtrain, iteration=i, fobj=obj)\n"
     ]
    },
    {
     "name": "stdout",
     "output_type": "stream",
     "text": [
      "[CV] END gamma=0.1, learning_rate=0.2, max_depth=9, n_estimators=300, subsample=1.0; total time= 4.9min\n"
     ]
    },
    {
     "name": "stderr",
     "output_type": "stream",
     "text": [
      "/Library/Frameworks/Python.framework/Versions/3.12/lib/python3.12/site-packages/xgboost/training.py:199: UserWarning: [23:52:01] WARNING: /Users/runner/work/xgboost/xgboost/src/learner.cc:790: \n",
      "Parameters: { \"use_label_encoder\" } are not used.\n",
      "\n",
      "  bst.update(dtrain, iteration=i, fobj=obj)\n"
     ]
    },
    {
     "name": "stdout",
     "output_type": "stream",
     "text": [
      "[CV] END gamma=0, learning_rate=0.2, max_depth=7, n_estimators=200, subsample=0.7; total time= 4.1min\n"
     ]
    },
    {
     "name": "stderr",
     "output_type": "stream",
     "text": [
      "/Library/Frameworks/Python.framework/Versions/3.12/lib/python3.12/site-packages/xgboost/training.py:199: UserWarning: [23:52:30] WARNING: /Users/runner/work/xgboost/xgboost/src/learner.cc:790: \n",
      "Parameters: { \"use_label_encoder\" } are not used.\n",
      "\n",
      "  bst.update(dtrain, iteration=i, fobj=obj)\n"
     ]
    },
    {
     "name": "stdout",
     "output_type": "stream",
     "text": [
      "[CV] END gamma=0, learning_rate=0.2, max_depth=7, n_estimators=200, subsample=0.7; total time= 4.6min\n",
      "[CV] END gamma=0, learning_rate=0.2, max_depth=7, n_estimators=200, subsample=0.7; total time= 4.7min\n",
      "[CV] END gamma=0.1, learning_rate=0.1, max_depth=9, n_estimators=100, subsample=0.9; total time= 6.5min\n",
      "[CV] END gamma=0.1, learning_rate=0.1, max_depth=9, n_estimators=100, subsample=0.9; total time= 5.9min\n",
      "[CV] END gamma=0.1, learning_rate=0.1, max_depth=9, n_estimators=100, subsample=0.9; total time= 5.6min\n",
      "[CV] END gamma=0, learning_rate=0.05, max_depth=7, n_estimators=300, subsample=0.7; total time=10.1min\n",
      "[CV] END gamma=0, learning_rate=0.05, max_depth=7, n_estimators=300, subsample=0.7; total time=10.6min\n",
      "[CV] END gamma=0, learning_rate=0.05, max_depth=7, n_estimators=300, subsample=0.7; total time=10.0min\n"
     ]
    },
    {
     "name": "stderr",
     "output_type": "stream",
     "text": [
      "/Library/Frameworks/Python.framework/Versions/3.12/lib/python3.12/site-packages/xgboost/training.py:199: UserWarning: [23:58:17] WARNING: /Users/runner/work/xgboost/xgboost/src/learner.cc:790: \n",
      "Parameters: { \"use_label_encoder\" } are not used.\n",
      "\n",
      "  bst.update(dtrain, iteration=i, fobj=obj)\n"
     ]
    },
    {
     "name": "stdout",
     "output_type": "stream",
     "text": [
      "\n",
      "✅ Best Cross-Validation AUC-ROC Score: 0.9997\n",
      "Optimal Parameters: {'subsample': 0.7, 'n_estimators': 300, 'max_depth': 5, 'learning_rate': 0.05, 'gamma': 0}\n"
     ]
    }
   ],
   "source": [
    "from sklearn.model_selection import RandomizedSearchCV\n",
    "\n",
    "print(\"\\n--- Hyperparameter Tuning (Randomized Search) ---\")\n",
    "\n",
    "# Define a reasonable search space for XGBoost parameters\n",
    "param_grid = {\n",
    "    'n_estimators': [100, 200, 300],  # Number of boosting rounds\n",
    "    'max_depth': [5, 7, 9],           # Maximum tree depth\n",
    "    'learning_rate': [0.05, 0.1, 0.2], # Step size shrinkage\n",
    "    'gamma': [0, 0.1, 0.5],           # Minimum loss reduction required to make a further partition\n",
    "    'subsample': [0.7, 0.9, 1.0]      # Subsample ratio of the training instances\n",
    "}\n",
    "\n",
    "# Initialize Randomized Search CV\n",
    "# n_iter: number of parameter settings that are sampled.\n",
    "# scoring: Use AUC-ROC as the primary tuning metric.\n",
    "random_search = RandomizedSearchCV(\n",
    "    estimator=xgb.XGBClassifier(use_label_encoder=False, eval_metric='logloss', random_state=42),\n",
    "    param_distributions=param_grid,\n",
    "    n_iter=20, # Test 20 random combinations\n",
    "    scoring='roc_auc',\n",
    "    cv=3,       # 3-fold cross-validation\n",
    "    verbose=2,\n",
    "    random_state=42,\n",
    "    n_jobs=-1\n",
    ")\n",
    "\n",
    "# Run the search on the training data\n",
    "random_search.fit(X_train_tfidf, y_train)\n",
    "\n",
    "# Get the best estimator and score\n",
    "best_xgb = random_search.best_estimator_\n",
    "best_score = random_search.best_score_\n",
    "\n",
    "print(f\"\\n✅ Best Cross-Validation AUC-ROC Score: {best_score:.4f}\")\n",
    "print(f\"Optimal Parameters: {random_search.best_params_}\")"
   ]
  },
  {
   "cell_type": "markdown",
   "id": "1d3c4fc8",
   "metadata": {},
   "source": [
    "### 6. Final Model Selection and Artifact Saving\n",
    "\n",
    "Evaluate the final best model on the test set and save the key artifacts needed for deployment."
   ]
  },
  {
   "cell_type": "code",
   "execution_count": 65,
   "id": "edf2108d",
   "metadata": {},
   "outputs": [
    {
     "name": "stdout",
     "output_type": "stream",
     "text": [
      "\n",
      "--- Final Tuned Model Performance on Test Set ---\n",
      "Final Tuned XGBoost AUC-ROC: 0.9996\n",
      "\n",
      "Classification Report:\n",
      "              precision    recall  f1-score   support\n",
      "\n",
      "    Fake (0)       1.00      0.99      1.00      3581\n",
      "    Real (1)       1.00      1.00      1.00      4239\n",
      "\n",
      "    accuracy                           1.00      7820\n",
      "   macro avg       1.00      1.00      1.00      7820\n",
      "weighted avg       1.00      1.00      1.00      7820\n",
      "\n"
     ]
    }
   ],
   "source": [
    "from sklearn.metrics import confusion_matrix\n",
    "from joblib import dump # Use joblib for efficient saving of large models/vectorizers\n",
    "import seaborn as sns\n",
    "import matplotlib.pyplot as plt\n",
    "\n",
    "# 1. Final Model Evaluation (on Unseen Test Set)\n",
    "print(\"\\n--- Final Tuned Model Performance on Test Set ---\")\n",
    "\n",
    "# Predict using the best model found during tuning\n",
    "y_pred_tuned = best_xgb.predict(X_test_tfidf)\n",
    "y_pred_proba_tuned = best_xgb.predict_proba(X_test_tfidf)[:, 1]\n",
    "\n",
    "# Final AUC-ROC Score\n",
    "final_auc_roc = roc_auc_score(y_test, y_pred_proba_tuned)\n",
    "print(f\"Final Tuned XGBoost AUC-ROC: {final_auc_roc:.4f}\")\n",
    "\n",
    "# Classification Report\n",
    "print(\"\\nClassification Report:\")\n",
    "print(classification_report(y_test, y_pred_tuned, target_names=['Fake (0)', 'Real (1)']))\n"
   ]
  },
  {
   "cell_type": "code",
   "execution_count": 66,
   "id": "1030c424",
   "metadata": {},
   "outputs": [
    {
     "data": {
      "image/png": "[encoded data removed]",
      "text/plain": [
       "<Figure size 800x600 with 2 Axes>"
      ]
     },
     "metadata": {},
     "output_type": "display_data"
    }
   ],
   "source": [
    "# 2. Confusion Matrix Visualization\n",
    "cm = confusion_matrix(y_test, y_pred_tuned)\n",
    "plt.figure(figsize=(8, 6))\n",
    "sns.heatmap(cm, annot=True, fmt='d', cmap='Blues', \n",
    "            xticklabels=['Predicted Fake', 'Predicted Real'], \n",
    "            yticklabels=['Actual Fake', 'Actual Real'])\n",
    "plt.title('Confusion Matrix for Tuned XGBoost Model')\n",
    "plt.ylabel('Actual Label')\n",
    "plt.xlabel('Predicted Label')\n",
    "plt.show()"
   ]
  },
  {
   "cell_type": "code",
   "execution_count": 67,
   "id": "0c6b8af8",
   "metadata": {},
   "outputs": [
    {
     "name": "stdout",
     "output_type": "stream",
     "text": [
      "\n",
      "--- Saving Model Artifacts ---\n",
      "Saved: tfidf_vectorizer.joblib\n",
      "Saved: final_xgb_model.joblib\n"
     ]
    }
   ],
   "source": [
    "# 3. Saving Model and Vectorizer Artifacts\n",
    "print(\"\\n--- Saving Model Artifacts ---\")\n",
    "\n",
    "import os\n",
    "\n",
    "# Create a models directory if it doesn't exist\n",
    "os.makedirs('../models', exist_ok=True) \n",
    "\n",
    "# Save the fitted TF-IDF Vectorizer\n",
    "dump(tfidf_vectorizer, '../models/tfidf_vectorizer.joblib')\n",
    "print(\"Saved: tfidf_vectorizer.joblib\")\n",
    "\n",
    "# Save the final Tuned Model\n",
    "dump(best_xgb, '../models/final_xgb_model.joblib')\n",
    "print(\"Saved: final_xgb_model.joblib\")"
   ]
  },
  {
   "cell_type": "markdown",
   "id": "b0716ea7",
   "metadata": {},
   "source": [
    "## MODEL HEALTH CHECK"
   ]
  },
  {
   "cell_type": "code",
   "execution_count": 68,
   "id": "a648ae71",
   "metadata": {},
   "outputs": [],
   "source": [
    "import numpy as np\n",
    "import pandas as pd\n",
    "import matplotlib.pyplot as plt\n",
    "import os\n",
    "import sys\n",
    "from joblib import load\n",
    "from sklearn.model_selection import train_test_split\n",
    "from sklearn.metrics import roc_auc_score, classification_report\n",
    "from xgboost import plot_importance\n",
    "\n"
   ]
  },
  {
   "cell_type": "code",
   "execution_count": 69,
   "id": "85a85cf9",
   "metadata": {},
   "outputs": [],
   "source": [
    "# --- Setup Paths ---\n",
    "# Fix for NameError when running in a Jupyter Notebook/interactive environment\n",
    "try:\n",
    "    # Attempt the script-safe method\n",
    "    project_root = os.path.abspath(os.path.join(os.path.dirname(__file__), '..'))\n",
    "except NameError:\n",
    "    # If __file__ is undefined (running in notebook/console), assume current directory is the root.\n",
    "    project_root = os.getcwd()\n",
    "    \n",
    "if project_root not in sys.path:\n",
    "    sys.path.append(project_root)"
   ]
  },
  {
   "cell_type": "code",
   "execution_count": 70,
   "id": "e177ab57",
   "metadata": {},
   "outputs": [
    {
     "name": "stdout",
     "output_type": "stream",
     "text": [
      "✅ Model and Vectorizer loaded successfully.\n"
     ]
    }
   ],
   "source": [
    "# Define file paths\n",
    "MODEL_PATH = '../models/final_xgb_model.joblib'\n",
    "VECTORIZER_PATH = '../models/tfidf_vectorizer.joblib'\n",
    "DATA_PATH = '../data/processed/cleaned_news_data.csv'\n",
    "\n",
    "# 1. Load Data and Artifacts \n",
    "try:\n",
    "    # Load model and vectorizer\n",
    "    tfidf_vectorizer = load(VECTORIZER_PATH)\n",
    "    best_xgb = load(MODEL_PATH)\n",
    "    print(\"✅ Model and Vectorizer loaded successfully.\")\n",
    "\n",
    "    # Load cleaned data\n",
    "    df = pd.read_csv(DATA_PATH)\n",
    "    df.dropna(subset=['cleaned_text'], inplace=True)\n",
    "    \n",
    "except FileNotFoundError as e:\n",
    "    print(f\"Error: Could not find required file. Check path: {e.filename}\")\n",
    "    sys.exit(1)\n"
   ]
  },
  {
   "cell_type": "code",
   "execution_count": 71,
   "id": "40d38704",
   "metadata": {},
   "outputs": [
    {
     "name": "stdout",
     "output_type": "stream",
     "text": [
      "Transforming text features...\n",
      "Transformation complete.\n",
      "\n",
      "📊 Train AUC: 1.0000\n",
      "📊 Test  AUC: 0.9996\n",
      "✅ Difference: 0.0004\n",
      "\n",
      "✅ Train vs Test AUC are very similar — No overfitting.\n",
      "\n"
     ]
    }
   ],
   "source": [
    "# 2. Recreate Train/Test Split \n",
    "# We must use the exact same random_state=42 and stratify settings \n",
    "# used during the initial modeling phase!\n",
    "\n",
    "X = df['cleaned_text']\n",
    "y = df['label']\n",
    "\n",
    "X_train_text, X_test_text, y_train, y_test = train_test_split(\n",
    "    X, y, \n",
    "    test_size=0.2, \n",
    "    stratify=y, \n",
    "    random_state=42\n",
    ")\n",
    "\n",
    "# 3. Prepare Data for Model \n",
    "# Transform the text data using the loaded vectorizer\n",
    "print(\"Transforming text features...\")\n",
    "X_train_tfidf = tfidf_vectorizer.transform(X_train_text)\n",
    "X_test_tfidf  = tfidf_vectorizer.transform(X_test_text)\n",
    "print(\"Transformation complete.\")\n",
    "\n",
    "\n",
    "# 4. Train vs Test AUC \n",
    "y_train_pred = best_xgb.predict_proba(X_train_tfidf)[:, 1]\n",
    "y_test_pred  = best_xgb.predict_proba(X_test_tfidf)[:, 1]\n",
    "\n",
    "train_auc = roc_auc_score(y_train, y_train_pred)\n",
    "test_auc  = roc_auc_score(y_test, y_test_pred)\n",
    "\n",
    "print(f\"\\n📊 Train AUC: {train_auc:.4f}\")\n",
    "print(f\"📊 Test  AUC: {test_auc:.4f}\")\n",
    "print(f\"✅ Difference: {abs(train_auc - test_auc):.4f}\\n\")\n",
    "\n",
    "if abs(train_auc - test_auc) <= 0.01:\n",
    "    print(\"✅ Train vs Test AUC are very similar — No overfitting.\\n\")\n",
    "else:\n",
    "    print(\"⚠️ Possible overfitting — large gap between Train and Test.\\n\")\n",
    "\n"
   ]
  },
  {
   "cell_type": "code",
   "execution_count": 72,
   "id": "e3fb7af7",
   "metadata": {},
   "outputs": [
    {
     "name": "stdout",
     "output_type": "stream",
     "text": [
      "ℹ️ An error occurred while trying to plot the learning curve.\n",
      "\n",
      "🔍 Max feature correlation with target: Skipping for speed (checked in notebook).\n",
      "\n",
      "📈 Top 15 Feature Importances:\n"
     ]
    },
    {
     "data": {
      "image/png": "[encoded data removed]",
      "text/plain": [
       "<Figure size 640x480 with 1 Axes>"
      ]
     },
     "metadata": {},
     "output_type": "display_data"
    },
    {
     "name": "stdout",
     "output_type": "stream",
     "text": [
      "✅ Check if top features make logical sense for Fake/Real detection.\n",
      "\n",
      "Classification Report:\n",
      "               precision    recall  f1-score   support\n",
      "\n",
      "           0       1.00      0.99      1.00      3581\n",
      "           1       1.00      1.00      1.00      4239\n",
      "\n",
      "    accuracy                           1.00      7820\n",
      "   macro avg       1.00      1.00      1.00      7820\n",
      "weighted avg       1.00      1.00      1.00      7820\n",
      "\n",
      "🏁 Model Health Check Complete.\n"
     ]
    }
   ],
   "source": [
    "#  5. Learning Curves (Requires 'eval_set' during original training) \n",
    "# NOTE: This section often only works if 'eval_set' was passed during xgb.fit()\n",
    "# Since we didn't do that, we'll gracefully skip the plot.\n",
    "try:\n",
    "    results = best_xgb.evals_result()\n",
    "    epochs = len(results['validation_0']['auc'])\n",
    "    x_axis = range(0, epochs)\n",
    "\n",
    "    plt.figure()\n",
    "    plt.plot(x_axis, results['validation_0']['auc'], label='Train')\n",
    "    plt.plot(x_axis, results['validation_1']['auc'], label='Validation')\n",
    "    plt.legend()\n",
    "    plt.xlabel('Iteration')\n",
    "    plt.ylabel('AUC')\n",
    "    plt.title('XGBoost Learning Curve')\n",
    "    plt.show()\n",
    "    print(\"✅ Learning curve plotted.\\n\")\n",
    "except AttributeError:\n",
    "    print(\"ℹ️ No evals_result() found in saved model — learning curve unavailable.\\n\")\n",
    "except Exception:\n",
    "    print(\"ℹ️ An error occurred while trying to plot the learning curve.\\n\")\n",
    "\n",
    "# ======== 6. Data Leakage Check (Simplified/Conceptual) ========\n",
    "# NOTE: Since max_corr is slow on sparse matrices, we simplify this check.\n",
    "print(\"🔍 Max feature correlation with target: Skipping for speed (checked in notebook).\\n\")\n",
    "\n",
    "\n",
    "# ======== 7. Feature Importances ========\n",
    "print(\"📈 Top 15 Feature Importances:\")\n",
    "plot_importance(best_xgb, max_num_features=15)\n",
    "plt.show()\n",
    "print(\"✅ Check if top features make logical sense for Fake/Real detection.\\n\")\n",
    "\n",
    "\n",
    "# ======== 8. Classification Report ========\n",
    "y_pred = best_xgb.predict(X_test_tfidf)\n",
    "print(\"Classification Report:\\n\", classification_report(y_test, y_pred))\n",
    "\n",
    "print(\"🏁 Model Health Check Complete.\")\n",
    "\n"
   ]
  },
  {
   "cell_type": "markdown",
   "id": "81f45016",
   "metadata": {},
   "source": [
    "list of the top 15 most predictive words your XGBoost model uses to classify text as Fake or Real.\n",
    "This helps you interpret model, which words are driving predictions."
   ]
  },
  {
   "cell_type": "code",
   "execution_count": 73,
   "id": "b3d187f3",
   "metadata": {},
   "outputs": [
    {
     "name": "stdout",
     "output_type": "stream",
     "text": [
      "\n",
      "--- Top 15 Most Predictive Words (Mapped from Index) ---\n",
      "Word: reuters              | Score: 306.0\n",
      "Word: said                 | Score: 247.0\n",
      "Word: via                  | Score: 99.0\n",
      "Word: image                | Score: 91.0\n",
      "Word: breaking             | Score: 77.0\n",
      "Word: obama                | Score: 65.0\n",
      "Word: video                | Score: 59.0\n",
      "Word: news                 | Score: 51.0\n",
      "Word: year                 | Score: 47.0\n",
      "Word: washington reuters   | Score: 45.0\n",
      "Word: president            | Score: 42.0\n",
      "Word: century wire         | Score: 42.0\n",
      "Word: would                | Score: 41.0\n",
      "Word: like                 | Score: 41.0\n",
      "Word: last                 | Score: 39.0\n"
     ]
    }
   ],
   "source": [
    "feature_names = tfidf_vectorizer.get_feature_names_out()\n",
    "\n",
    "# Get the list of feature indices (e.g., [3690, 3799, 4754]) from the plot data\n",
    "# Note: XGBoost feature importances are usually accessed via model.get_booster().get_score()\n",
    "# Assuming your coef_df from Section 3 is still available, you can use that.\n",
    "\n",
    "# Get the top 15 features from your best_xgb model\n",
    "top_features_list = best_xgb.get_booster().get_score(importance_type='weight')\n",
    "top_features_df = pd.Series(top_features_list).sort_values(ascending=False).head(15)\n",
    "\n",
    "print(\"\\n--- Top 15 Most Predictive Words (Mapped from Index) ---\")\n",
    "for feature_index, score in top_features_df.items():\n",
    "    # Convert feature name (e.g., 'f3690') back to an integer index\n",
    "    # and use it to look up the word in feature_names.\n",
    "    try:\n",
    "        word_index = int(feature_index.replace('f', ''))\n",
    "        word = feature_names[word_index]\n",
    "        print(f\"Word: {word:<20} | Score: {score}\")\n",
    "    except ValueError:\n",
    "        # Handle cases where feature names might not be simple 'fXXX'\n",
    "        pass"
   ]
  },
  {
   "cell_type": "code",
   "execution_count": 75,
   "id": "fabb5005",
   "metadata": {},
   "outputs": [
    {
     "name": "stdout",
     "output_type": "stream",
     "text": [
      "Headline: President signs new climate change bill into law\n",
      "Coverage: 62.50%\n",
      "Prediction: FAKE\n",
      "Probabilities: FAKE=0.9982, REAL=0.0018\n",
      "--------------------------------------------------\n",
      "Headline: Aliens discovered on Mars? Scientists baffled!\n",
      "Coverage: 16.67%\n",
      "Prediction: FAKE\n",
      "Probabilities: FAKE=0.9984, REAL=0.0016\n",
      "--------------------------------------------------\n",
      "Headline: Apple releases iPhone 17 with AI-powered camera\n",
      "Coverage: 14.29%\n",
      "Prediction: FAKE\n",
      "Probabilities: FAKE=0.9984, REAL=0.0016\n",
      "--------------------------------------------------\n"
     ]
    }
   ],
   "source": [
    "import joblib\n",
    "from scipy.sparse import hstack\n",
    "\n",
    "# --- Load your saved artifacts ---\n",
    "MODEL_PATH = '../models/final_xgb_model.joblib'\n",
    "VECTORIZER_PATH = '../models/tfidf_vectorizer.joblib'\n",
    "\n",
    "best_xgb = joblib.load(MODEL_PATH)\n",
    "vectorizer = joblib.load(VECTORIZER_PATH)\n",
    "\n",
    "# --- New headlines to test ---\n",
    "new_headlines = [\n",
    "    \"President signs new climate change bill into law\",\n",
    "    \"Aliens discovered on Mars? Scientists baffled!\",\n",
    "    \"Apple releases iPhone 17 with AI-powered camera\"\n",
    "]\n",
    "\n",
    "# --- Function to check TF-IDF coverage ---\n",
    "def vocab_coverage(text, vectorizer):\n",
    "    words = text.split()\n",
    "    vocab = set(vectorizer.get_feature_names_out())\n",
    "    return sum([w in vocab for w in words]) / len(words)\n",
    "\n",
    "# --- Make predictions and check coverage ---\n",
    "for h in new_headlines:\n",
    "    coverage = vocab_coverage(h, vectorizer)\n",
    "    \n",
    "    # Vectorize the headline\n",
    "    X_tfidf = vectorizer.transform([h])\n",
    "    \n",
    "    # Predict label\n",
    "    pred_label = best_xgb.predict(X_tfidf)[0]\n",
    "    pred_proba = best_xgb.predict_proba(X_tfidf)[0]\n",
    "    \n",
    "    label_str = \"REAL\" if pred_label == 1 else \"FAKE\"\n",
    "    \n",
    "    print(f\"Headline: {h}\")\n",
    "    print(f\"Coverage: {coverage*100:.2f}%\")\n",
    "    print(f\"Prediction: {label_str}\")\n",
    "    print(f\"Probabilities: FAKE={pred_proba[0]:.4f}, REAL={pred_proba[1]:.4f}\")\n",
    "    print(\"-\" * 50)\n"
   ]
  }
 ],
 "metadata": {
  "kernelspec": {
   "display_name": "Python 3",
   "language": "python",
   "name": "python3"
  },
  "language_info": {
   "codemirror_mode": {
    "name": "ipython",
    "version": 3
   },
   "file_extension": ".py",
   "mimetype": "text/x-python",
   "name": "python",
   "nbconvert_exporter": "python",
   "pygments_lexer": "ipython3",
   "version": "3.12.3"
  }
 },
 "nbformat": 4,
 "nbformat_minor": 5
}
