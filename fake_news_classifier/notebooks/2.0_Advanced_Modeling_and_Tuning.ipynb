{
 "cells": [
  {
   "cell_type": "markdown",
   "id": "4a0cbc15",
   "metadata": {},
   "source": [
    "## 2.0 Predictive Modeling: Vectorization, Baseline, and Tuning\n",
    "\n",
    "### 1. Data Loading and Initial Setup\n",
    "* *Load the processed `cleaned_news_data.csv`.*\n",
    "* *Verify data types and class balance.*\n",
    "\n",
    "### 2. Feature Vectorization (TF-IDF)\n",
    "* Split Data: **Train-Test-Split** and Stratification.\n",
    "* **TF-IDF Implementation** (Fit on Train, Transform on Test).\n",
    "* *Check the shape and sparsity of the resulting feature matrix.*\n",
    "\n",
    "### 3. Baseline Model: Logistic Regression\n",
    "* Model Training and Initial Prediction.\n",
    "* **Model Evaluation:** AUC-ROC and Classification Report.\n",
    "* **Feature Importance Analysis** (Top 10 Positive/Negative Coefficients).\n",
    "\n",
    "### 4. Advanced Modeling: Gradient Boosting (XGBoost)\n",
    "* XGBoost Model Training (First Pass).\n",
    "* *Comparison with Baseline AUC-ROC.*\n",
    "\n",
    "### 5. Hyperparameter Tuning and Optimization\n",
    "* Defining the Hyperparameter Search Space.\n",
    "* **Grid Search or Randomized Search Implementation.**\n",
    "* *Identify best model parameters.* \n",
    "\n",
    "### 6. Final Model Selection and Artifact Saving\n",
    "* **Final Model Evaluation:** Metrics of the Tuned Model.\n",
    "* **Confusion Matrix Visualization.**\n",
    "* **Saving Model and Vectorizer** (`.joblib` or `.pkl`).\n",
    "\n",
    "---"
   ]
  },
  {
   "cell_type": "markdown",
   "id": "42fdcf59",
   "metadata": {},
   "source": [
    "### 1. Data Loading and Feature Vectorization (TF-IDF)\n",
    "This section loads cleaned data, splits it for testing, and converts the text into a numerical matrix."
   ]
  },
  {
   "cell_type": "code",
   "execution_count": 8,
   "id": "ac307145",
   "metadata": {},
   "outputs": [
    {
     "name": "stdout",
     "output_type": "stream",
     "text": [
      "Cleaned data loaded successfully.\n"
     ]
    }
   ],
   "source": [
    "import pandas as pd\n",
    "from sklearn.model_selection import train_test_split\n",
    "from sklearn.feature_extraction.text import TfidfVectorizer\n",
    "from sklearn.linear_model import LogisticRegression\n",
    "from sklearn.metrics import classification_report, roc_auc_score\n",
    "\n",
    "# 1. Load Cleaned Data\n",
    "try:\n",
    "    # Adjust path if necessary based on where you run the notebook\n",
    "    df = pd.read_csv('../data/processed/cleaned_news_data.csv')\n",
    "    print(\"Cleaned data loaded successfully.\")\n",
    "except FileNotFoundError:\n",
    "    print(\"Error: Cleaned data file not found. Ensure it's saved in 'data/processed/'.\")\n",
    "    exit()\n",
    "\n",
    "# Drop rows where cleaned_text might be unexpectedly null (if any were created by cleaning)\n",
    "df.dropna(subset=['cleaned_text'], inplace=True)\n",
    "\n",
    "# Define Features (X) and Target (y)\n",
    "X = df['cleaned_text']\n",
    "y = df['label']"
   ]
  },
  {
   "cell_type": "code",
   "execution_count": 9,
   "id": "ddb99b74",
   "metadata": {},
   "outputs": [
    {
     "name": "stdout",
     "output_type": "stream",
     "text": [
      "\n",
      "Training set size: 31280 samples\n",
      "Testing set size: 7820 samples\n",
      "\n",
      "TF-IDF Matrix Shape (Train): (31280, 5000)\n",
      "TF-IDF Matrix Shape (Test): (7820, 5000)\n"
     ]
    }
   ],
   "source": [
    "# 2. Split Data: Train-Test-Split (80% Train, 20% Test)\n",
    "# Use stratify to ensure the label balance is maintained in both sets\n",
    "X_train, X_test, y_train, y_test = train_test_split(\n",
    "    X, y, \n",
    "    test_size=0.2, \n",
    "    stratify=y, \n",
    "    random_state=42\n",
    ")\n",
    "print(f\"\\nTraining set size: {X_train.shape[0]} samples\")\n",
    "print(f\"Testing set size: {X_test.shape[0]} samples\")\n",
    "\n",
    "# 3. Feature Vectorization (TF-IDF)\n",
    "# max_features limits the vocabulary size, improving speed and reducing noise\n",
    "tfidf_vectorizer = TfidfVectorizer(max_features=5000, ngram_range=(1, 2)) \n",
    "\n",
    "# Fit and transform the training data\n",
    "X_train_tfidf = tfidf_vectorizer.fit_transform(X_train)\n",
    "\n",
    "# Transform the test data using the fitted vectorizer\n",
    "X_test_tfidf = tfidf_vectorizer.transform(X_test)\n",
    "\n",
    "print(f\"\\nTF-IDF Matrix Shape (Train): {X_train_tfidf.shape}\")\n",
    "print(f\"TF-IDF Matrix Shape (Test): {X_test_tfidf.shape}\")"
   ]
  },
  {
   "cell_type": "markdown",
   "id": "cca7a395",
   "metadata": {},
   "source": [
    "### 2. Baseline Model: Logistic Regression 🎯\n",
    "Now that your data is numerical, let's train the fast, interpretable Logistic Regression model."
   ]
  },
  {
   "cell_type": "code",
   "execution_count": 10,
   "id": "3341135e",
   "metadata": {},
   "outputs": [
    {
     "name": "stdout",
     "output_type": "stream",
     "text": [
      "\n",
      "--- Training Logistic Regression Baseline ---\n",
      "\n",
      "--- Baseline Model Performance (Logistic Regression) ---\n",
      "AUC-ROC Score: 0.9992\n",
      "\n",
      "Classification Report:\n",
      "              precision    recall  f1-score   support\n",
      "\n",
      "    Fake (0)       0.99      0.98      0.99      3581\n",
      "    Real (1)       0.99      0.99      0.99      4239\n",
      "\n",
      "    accuracy                           0.99      7820\n",
      "   macro avg       0.99      0.99      0.99      7820\n",
      "weighted avg       0.99      0.99      0.99      7820\n",
      "\n"
     ]
    }
   ],
   "source": [
    "# 1. Train the Baseline Model\n",
    "print(\"\\n--- Training Logistic Regression Baseline ---\")\n",
    "lr_model = LogisticRegression(max_iter=1000, solver='liblinear', random_state=42)\n",
    "lr_model.fit(X_train_tfidf, y_train)\n",
    "\n",
    "# 2. Predict on the test set\n",
    "y_pred_lr = lr_model.predict(X_test_tfidf)\n",
    "y_pred_proba_lr = lr_model.predict_proba(X_test_tfidf)[:, 1]\n",
    "\n",
    "# 3. Model Evaluation (Refining P&S)\n",
    "print(\"\\n--- Baseline Model Performance (Logistic Regression) ---\")\n",
    "\n",
    "# AUC-ROC Score\n",
    "auc_roc_lr = roc_auc_score(y_test, y_pred_proba_lr)\n",
    "print(f\"AUC-ROC Score: {auc_roc_lr:.4f}\")\n",
    "\n",
    "# Classification Report\n",
    "print(\"\\nClassification Report:\")\n",
    "print(classification_report(y_test, y_pred_lr, target_names=['Fake (0)', 'Real (1)']))"
   ]
  },
  {
   "cell_type": "markdown",
   "id": "f3b5fc96",
   "metadata": {},
   "source": [
    "### Interpretation Check (Critical)\n",
    "\n",
    "This step extracts the top words the model learned."
   ]
  },
  {
   "cell_type": "code",
   "execution_count": 11,
   "id": "651aa0a8",
   "metadata": {},
   "outputs": [
    {
     "name": "stdout",
     "output_type": "stream",
     "text": [
      "\n",
      "--- Top 10 Features Predicting REAL News (Positive Coefficients) ---\n",
      "                 feature  coefficient\n",
      "3690             reuters    20.177554\n",
      "3799                said    15.892675\n",
      "4838  washington reuters     8.318887\n",
      "3292    president donald     4.899516\n",
      "4835          washington     4.561549\n",
      "4634             tuesday     4.407608\n",
      "4855           wednesday     4.373771\n",
      "4469            thursday     3.872308\n",
      "3694   reuters president     3.736248\n",
      "1760              friday     3.572645\n",
      "\n",
      "--- Top 10 Features Predicting FAKE News (Negative Coefficients) ---\n",
      "              feature  coefficient\n",
      "2797               mr    -3.840364\n",
      "2950            obama    -4.305355\n",
      "1467             even    -4.313955\n",
      "2094        image via    -4.628465\n",
      "3299  president trump    -4.875225\n",
      "1992          hillary    -4.986163\n",
      "1848              gop    -5.207968\n",
      "2092            image    -8.021665\n",
      "4754              via    -8.112969\n",
      "4766            video    -8.513280\n"
     ]
    }
   ],
   "source": [
    "# Get feature names and model coefficients\n",
    "feature_names = tfidf_vectorizer.get_feature_names_out()\n",
    "coefficients = lr_model.coef_[0]\n",
    "\n",
    "# Combine names and coefficients into a DataFrame\n",
    "coef_df = pd.DataFrame({'feature': feature_names, 'coefficient': coefficients})\n",
    "\n",
    "# Sort by coefficient magnitude\n",
    "coef_df.sort_values(by='coefficient', ascending=False, inplace=True)\n",
    "\n",
    "print(\"\\n--- Top 10 Features Predicting REAL News (Positive Coefficients) ---\")\n",
    "print(coef_df.head(10))\n",
    "\n",
    "print(\"\\n--- Top 10 Features Predicting FAKE News (Negative Coefficients) ---\")\n",
    "print(coef_df.tail(10))"
   ]
  },
  {
   "cell_type": "markdown",
   "id": "0d30872a",
   "metadata": {},
   "source": [
    "### 4. Advanced Modeling: Gradient Boosting (XGBoost)\n",
    "\n",
    "XGBoost is often superior for structured data and can handle the complexity of your sparse TF-IDF features better than a linear model. We'll train a basic version first and compare its performance to the baseline.\n",
    "Python"
   ]
  },
  {
   "cell_type": "code",
   "execution_count": 13,
   "id": "c814e4b9",
   "metadata": {},
   "outputs": [
    {
     "name": "stdout",
     "output_type": "stream",
     "text": [
      "\n",
      "--- Training XGBoost Model (First Pass) ---\n"
     ]
    },
    {
     "name": "stderr",
     "output_type": "stream",
     "text": [
      "/Library/Frameworks/Python.framework/Versions/3.12/lib/python3.12/site-packages/xgboost/training.py:199: UserWarning: [18:33:08] WARNING: /Users/runner/work/xgboost/xgboost/src/learner.cc:790: \n",
      "Parameters: { \"use_label_encoder\" } are not used.\n",
      "\n",
      "  bst.update(dtrain, iteration=i, fobj=obj)\n"
     ]
    },
    {
     "name": "stdout",
     "output_type": "stream",
     "text": [
      "\n",
      "Baseline Logistic Regression AUC-ROC: 0.9992\n",
      "XGBoost First Pass AUC-ROC: 0.9995\n",
      "✅ XGBoost provides an immediate improvement over the baseline!\n"
     ]
    }
   ],
   "source": [
    "# Import the XGBoost classifier\n",
    "import xgboost as xgb\n",
    "\n",
    "print(\"\\n--- Training XGBoost Model (First Pass) ---\")\n",
    "\n",
    "# Initialize and train the XGBoost classifier\n",
    "# Use verbosity=0 to suppress excessive output during training\n",
    "xgb_model = xgb.XGBClassifier(\n",
    "    objective='binary:logistic', \n",
    "    use_label_encoder=False, \n",
    "    eval_metric='logloss', \n",
    "    random_state=42, \n",
    "    n_estimators=100\n",
    ")\n",
    "\n",
    "# NOTE: Training time for XGBoost on sparse data can be significant\n",
    "xgb_model.fit(X_train_tfidf, y_train)\n",
    "\n",
    "# Predict probabilities and calculate AUC-ROC\n",
    "y_pred_proba_xgb = xgb_model.predict_proba(X_test_tfidf)[:, 1]\n",
    "auc_roc_xgb = roc_auc_score(y_test, y_pred_proba_xgb)\n",
    "\n",
    "print(f\"\\nBaseline Logistic Regression AUC-ROC: {auc_roc_lr:.4f}\")\n",
    "print(f\"XGBoost First Pass AUC-ROC: {auc_roc_xgb:.4f}\")\n",
    "\n",
    "if auc_roc_xgb > auc_roc_lr:\n",
    "    print(\"✅ XGBoost provides an immediate improvement over the baseline!\")\n",
    "else:\n",
    "    print(\"⚠️ XGBoost is slightly behind the baseline, but tuning may change this.\")\n"
   ]
  },
  {
   "cell_type": "markdown",
   "id": "01d3f265",
   "metadata": {},
   "source": [
    "### 5. Hyperparameter Tuning and Optimization\n",
    "\n",
    "Use Randomized Search to quickly find a good combination of parameters for the XGBoost model, as a full Grid Search on text data is often too time-consuming.\n",
    "Python\n"
   ]
  },
  {
   "cell_type": "code",
   "execution_count": 14,
   "id": "bcb177ac",
   "metadata": {},
   "outputs": [
    {
     "name": "stdout",
     "output_type": "stream",
     "text": [
      "\n",
      "--- Hyperparameter Tuning (Randomized Search) ---\n",
      "Fitting 3 folds for each of 20 candidates, totalling 60 fits\n"
     ]
    },
    {
     "name": "stderr",
     "output_type": "stream",
     "text": [
      "/Library/Frameworks/Python.framework/Versions/3.12/lib/python3.12/site-packages/xgboost/training.py:199: UserWarning: [18:33:41] WARNING: /Users/runner/work/xgboost/xgboost/src/learner.cc:790: \n",
      "Parameters: { \"use_label_encoder\" } are not used.\n",
      "\n",
      "  bst.update(dtrain, iteration=i, fobj=obj)\n",
      "/Library/Frameworks/Python.framework/Versions/3.12/lib/python3.12/site-packages/xgboost/training.py:199: UserWarning: [18:33:41] WARNING: /Users/runner/work/xgboost/xgboost/src/learner.cc:790: \n",
      "Parameters: { \"use_label_encoder\" } are not used.\n",
      "\n",
      "  bst.update(dtrain, iteration=i, fobj=obj)\n",
      "/Library/Frameworks/Python.framework/Versions/3.12/lib/python3.12/site-packages/xgboost/training.py:199: UserWarning: [18:33:41] WARNING: /Users/runner/work/xgboost/xgboost/src/learner.cc:790: \n",
      "Parameters: { \"use_label_encoder\" } are not used.\n",
      "\n",
      "  bst.update(dtrain, iteration=i, fobj=obj)\n",
      "/Library/Frameworks/Python.framework/Versions/3.12/lib/python3.12/site-packages/xgboost/training.py:199: UserWarning: [18:33:41] WARNING: /Users/runner/work/xgboost/xgboost/src/learner.cc:790: \n",
      "Parameters: { \"use_label_encoder\" } are not used.\n",
      "\n",
      "  bst.update(dtrain, iteration=i, fobj=obj)\n",
      "/Library/Frameworks/Python.framework/Versions/3.12/lib/python3.12/site-packages/xgboost/training.py:199: UserWarning: [18:33:41] WARNING: /Users/runner/work/xgboost/xgboost/src/learner.cc:790: \n",
      "Parameters: { \"use_label_encoder\" } are not used.\n",
      "\n",
      "  bst.update(dtrain, iteration=i, fobj=obj)\n",
      "/Library/Frameworks/Python.framework/Versions/3.12/lib/python3.12/site-packages/xgboost/training.py:199: UserWarning: [18:33:41] WARNING: /Users/runner/work/xgboost/xgboost/src/learner.cc:790: \n",
      "Parameters: { \"use_label_encoder\" } are not used.\n",
      "\n",
      "  bst.update(dtrain, iteration=i, fobj=obj)\n",
      "/Library/Frameworks/Python.framework/Versions/3.12/lib/python3.12/site-packages/xgboost/training.py:199: UserWarning: [18:33:41] WARNING: /Users/runner/work/xgboost/xgboost/src/learner.cc:790: \n",
      "Parameters: { \"use_label_encoder\" } are not used.\n",
      "\n",
      "  bst.update(dtrain, iteration=i, fobj=obj)\n",
      "/Library/Frameworks/Python.framework/Versions/3.12/lib/python3.12/site-packages/xgboost/training.py:199: UserWarning: [18:33:41] WARNING: /Users/runner/work/xgboost/xgboost/src/learner.cc:790: \n",
      "Parameters: { \"use_label_encoder\" } are not used.\n",
      "\n",
      "  bst.update(dtrain, iteration=i, fobj=obj)\n"
     ]
    },
    {
     "name": "stdout",
     "output_type": "stream",
     "text": [
      "[CV] END gamma=0.1, learning_rate=0.2, max_depth=7, n_estimators=300, subsample=1.0; total time= 1.9min\n"
     ]
    },
    {
     "name": "stderr",
     "output_type": "stream",
     "text": [
      "/Library/Frameworks/Python.framework/Versions/3.12/lib/python3.12/site-packages/xgboost/training.py:199: UserWarning: [18:35:36] WARNING: /Users/runner/work/xgboost/xgboost/src/learner.cc:790: \n",
      "Parameters: { \"use_label_encoder\" } are not used.\n",
      "\n",
      "  bst.update(dtrain, iteration=i, fobj=obj)\n"
     ]
    },
    {
     "name": "stdout",
     "output_type": "stream",
     "text": [
      "[CV] END gamma=0.1, learning_rate=0.2, max_depth=7, n_estimators=300, subsample=1.0; total time= 2.1min\n"
     ]
    },
    {
     "name": "stderr",
     "output_type": "stream",
     "text": [
      "/Library/Frameworks/Python.framework/Versions/3.12/lib/python3.12/site-packages/xgboost/training.py:199: UserWarning: [18:35:47] WARNING: /Users/runner/work/xgboost/xgboost/src/learner.cc:790: \n",
      "Parameters: { \"use_label_encoder\" } are not used.\n",
      "\n",
      "  bst.update(dtrain, iteration=i, fobj=obj)\n"
     ]
    },
    {
     "name": "stdout",
     "output_type": "stream",
     "text": [
      "[CV] END gamma=0, learning_rate=0.05, max_depth=5, n_estimators=300, subsample=0.7; total time= 3.2min\n"
     ]
    },
    {
     "name": "stderr",
     "output_type": "stream",
     "text": [
      "/Library/Frameworks/Python.framework/Versions/3.12/lib/python3.12/site-packages/xgboost/training.py:199: UserWarning: [18:36:53] WARNING: /Users/runner/work/xgboost/xgboost/src/learner.cc:790: \n",
      "Parameters: { \"use_label_encoder\" } are not used.\n",
      "\n",
      "  bst.update(dtrain, iteration=i, fobj=obj)\n"
     ]
    },
    {
     "name": "stdout",
     "output_type": "stream",
     "text": [
      "[CV] END gamma=0, learning_rate=0.05, max_depth=5, n_estimators=300, subsample=0.7; total time= 3.3min\n"
     ]
    },
    {
     "name": "stderr",
     "output_type": "stream",
     "text": [
      "/Library/Frameworks/Python.framework/Versions/3.12/lib/python3.12/site-packages/xgboost/training.py:199: UserWarning: [18:36:58] WARNING: /Users/runner/work/xgboost/xgboost/src/learner.cc:790: \n",
      "Parameters: { \"use_label_encoder\" } are not used.\n",
      "\n",
      "  bst.update(dtrain, iteration=i, fobj=obj)\n"
     ]
    },
    {
     "name": "stdout",
     "output_type": "stream",
     "text": [
      "[CV] END gamma=0, learning_rate=0.05, max_depth=5, n_estimators=300, subsample=0.7; total time= 3.4min\n"
     ]
    },
    {
     "name": "stderr",
     "output_type": "stream",
     "text": [
      "/Library/Frameworks/Python.framework/Versions/3.12/lib/python3.12/site-packages/xgboost/training.py:199: UserWarning: [18:37:03] WARNING: /Users/runner/work/xgboost/xgboost/src/learner.cc:790: \n",
      "Parameters: { \"use_label_encoder\" } are not used.\n",
      "\n",
      "  bst.update(dtrain, iteration=i, fobj=obj)\n"
     ]
    },
    {
     "name": "stdout",
     "output_type": "stream",
     "text": [
      "[CV] END gamma=0.5, learning_rate=0.2, max_depth=7, n_estimators=300, subsample=0.9; total time= 1.7min\n"
     ]
    },
    {
     "name": "stderr",
     "output_type": "stream",
     "text": [
      "/Library/Frameworks/Python.framework/Versions/3.12/lib/python3.12/site-packages/xgboost/training.py:199: UserWarning: [18:37:27] WARNING: /Users/runner/work/xgboost/xgboost/src/learner.cc:790: \n",
      "Parameters: { \"use_label_encoder\" } are not used.\n",
      "\n",
      "  bst.update(dtrain, iteration=i, fobj=obj)\n"
     ]
    },
    {
     "name": "stdout",
     "output_type": "stream",
     "text": [
      "[CV] END gamma=0.1, learning_rate=0.2, max_depth=7, n_estimators=300, subsample=1.0; total time= 1.9min\n"
     ]
    },
    {
     "name": "stderr",
     "output_type": "stream",
     "text": [
      "/Library/Frameworks/Python.framework/Versions/3.12/lib/python3.12/site-packages/xgboost/training.py:199: UserWarning: [18:37:30] WARNING: /Users/runner/work/xgboost/xgboost/src/learner.cc:790: \n",
      "Parameters: { \"use_label_encoder\" } are not used.\n",
      "\n",
      "  bst.update(dtrain, iteration=i, fobj=obj)\n"
     ]
    },
    {
     "name": "stdout",
     "output_type": "stream",
     "text": [
      "[CV] END gamma=0.5, learning_rate=0.2, max_depth=7, n_estimators=300, subsample=0.9; total time= 1.7min\n"
     ]
    },
    {
     "name": "stderr",
     "output_type": "stream",
     "text": [
      "/Library/Frameworks/Python.framework/Versions/3.12/lib/python3.12/site-packages/xgboost/training.py:199: UserWarning: [18:38:33] WARNING: /Users/runner/work/xgboost/xgboost/src/learner.cc:790: \n",
      "Parameters: { \"use_label_encoder\" } are not used.\n",
      "\n",
      "  bst.update(dtrain, iteration=i, fobj=obj)\n"
     ]
    },
    {
     "name": "stdout",
     "output_type": "stream",
     "text": [
      "[CV] END gamma=0.5, learning_rate=0.2, max_depth=7, n_estimators=300, subsample=0.9; total time= 1.7min\n"
     ]
    },
    {
     "name": "stderr",
     "output_type": "stream",
     "text": [
      "/Library/Frameworks/Python.framework/Versions/3.12/lib/python3.12/site-packages/xgboost/training.py:199: UserWarning: [18:38:39] WARNING: /Users/runner/work/xgboost/xgboost/src/learner.cc:790: \n",
      "Parameters: { \"use_label_encoder\" } are not used.\n",
      "\n",
      "  bst.update(dtrain, iteration=i, fobj=obj)\n"
     ]
    },
    {
     "name": "stdout",
     "output_type": "stream",
     "text": [
      "[CV] END gamma=0.5, learning_rate=0.2, max_depth=9, n_estimators=200, subsample=0.9; total time= 1.8min\n"
     ]
    },
    {
     "name": "stderr",
     "output_type": "stream",
     "text": [
      "/Library/Frameworks/Python.framework/Versions/3.12/lib/python3.12/site-packages/xgboost/training.py:199: UserWarning: [18:38:54] WARNING: /Users/runner/work/xgboost/xgboost/src/learner.cc:790: \n",
      "Parameters: { \"use_label_encoder\" } are not used.\n",
      "\n",
      "  bst.update(dtrain, iteration=i, fobj=obj)\n"
     ]
    },
    {
     "name": "stdout",
     "output_type": "stream",
     "text": [
      "[CV] END gamma=0.5, learning_rate=0.2, max_depth=9, n_estimators=200, subsample=0.9; total time= 1.8min\n"
     ]
    },
    {
     "name": "stderr",
     "output_type": "stream",
     "text": [
      "/Library/Frameworks/Python.framework/Versions/3.12/lib/python3.12/site-packages/xgboost/training.py:199: UserWarning: [18:39:17] WARNING: /Users/runner/work/xgboost/xgboost/src/learner.cc:790: \n",
      "Parameters: { \"use_label_encoder\" } are not used.\n",
      "\n",
      "  bst.update(dtrain, iteration=i, fobj=obj)\n"
     ]
    },
    {
     "name": "stdout",
     "output_type": "stream",
     "text": [
      "[CV] END gamma=0.5, learning_rate=0.2, max_depth=9, n_estimators=200, subsample=0.9; total time= 1.9min\n"
     ]
    },
    {
     "name": "stderr",
     "output_type": "stream",
     "text": [
      "/Library/Frameworks/Python.framework/Versions/3.12/lib/python3.12/site-packages/xgboost/training.py:199: UserWarning: [18:39:27] WARNING: /Users/runner/work/xgboost/xgboost/src/learner.cc:790: \n",
      "Parameters: { \"use_label_encoder\" } are not used.\n",
      "\n",
      "  bst.update(dtrain, iteration=i, fobj=obj)\n"
     ]
    },
    {
     "name": "stdout",
     "output_type": "stream",
     "text": [
      "[CV] END gamma=0, learning_rate=0.05, max_depth=9, n_estimators=300, subsample=0.7; total time= 6.9min\n"
     ]
    },
    {
     "name": "stderr",
     "output_type": "stream",
     "text": [
      "/Library/Frameworks/Python.framework/Versions/3.12/lib/python3.12/site-packages/xgboost/training.py:199: UserWarning: [18:40:38] WARNING: /Users/runner/work/xgboost/xgboost/src/learner.cc:790: \n",
      "Parameters: { \"use_label_encoder\" } are not used.\n",
      "\n",
      "  bst.update(dtrain, iteration=i, fobj=obj)\n"
     ]
    },
    {
     "name": "stdout",
     "output_type": "stream",
     "text": [
      "[CV] END gamma=0, learning_rate=0.05, max_depth=9, n_estimators=300, subsample=0.7; total time= 7.2min\n"
     ]
    },
    {
     "name": "stderr",
     "output_type": "stream",
     "text": [
      "/Library/Frameworks/Python.framework/Versions/3.12/lib/python3.12/site-packages/xgboost/training.py:199: UserWarning: [18:40:51] WARNING: /Users/runner/work/xgboost/xgboost/src/learner.cc:790: \n",
      "Parameters: { \"use_label_encoder\" } are not used.\n",
      "\n",
      "  bst.update(dtrain, iteration=i, fobj=obj)\n"
     ]
    },
    {
     "name": "stdout",
     "output_type": "stream",
     "text": [
      "[CV] END gamma=0, learning_rate=0.05, max_depth=9, n_estimators=300, subsample=0.7; total time= 7.2min\n"
     ]
    },
    {
     "name": "stderr",
     "output_type": "stream",
     "text": [
      "/Library/Frameworks/Python.framework/Versions/3.12/lib/python3.12/site-packages/xgboost/training.py:199: UserWarning: [18:40:54] WARNING: /Users/runner/work/xgboost/xgboost/src/learner.cc:790: \n",
      "Parameters: { \"use_label_encoder\" } are not used.\n",
      "\n",
      "  bst.update(dtrain, iteration=i, fobj=obj)\n"
     ]
    },
    {
     "name": "stdout",
     "output_type": "stream",
     "text": [
      "[CV] END gamma=0.1, learning_rate=0.2, max_depth=7, n_estimators=300, subsample=0.7; total time= 1.8min\n",
      "[CV] END gamma=0.1, learning_rate=0.2, max_depth=7, n_estimators=300, subsample=0.7; total time= 1.8min\n"
     ]
    },
    {
     "name": "stderr",
     "output_type": "stream",
     "text": [
      "/Library/Frameworks/Python.framework/Versions/3.12/lib/python3.12/site-packages/xgboost/training.py:199: UserWarning: [18:42:41] WARNING: /Users/runner/work/xgboost/xgboost/src/learner.cc:790: \n",
      "Parameters: { \"use_label_encoder\" } are not used.\n",
      "\n",
      "  bst.update(dtrain, iteration=i, fobj=obj)\n",
      "/Library/Frameworks/Python.framework/Versions/3.12/lib/python3.12/site-packages/xgboost/training.py:199: UserWarning: [18:42:43] WARNING: /Users/runner/work/xgboost/xgboost/src/learner.cc:790: \n",
      "Parameters: { \"use_label_encoder\" } are not used.\n",
      "\n",
      "  bst.update(dtrain, iteration=i, fobj=obj)\n"
     ]
    },
    {
     "name": "stdout",
     "output_type": "stream",
     "text": [
      "[CV] END gamma=0.5, learning_rate=0.1, max_depth=9, n_estimators=300, subsample=1.0; total time= 3.5min\n",
      "[CV] END gamma=0.5, learning_rate=0.1, max_depth=9, n_estimators=300, subsample=1.0; total time= 3.7min\n"
     ]
    },
    {
     "name": "stderr",
     "output_type": "stream",
     "text": [
      "/Library/Frameworks/Python.framework/Versions/3.12/lib/python3.12/site-packages/xgboost/training.py:199: UserWarning: [18:42:58] WARNING: /Users/runner/work/xgboost/xgboost/src/learner.cc:790: \n",
      "Parameters: { \"use_label_encoder\" } are not used.\n",
      "\n",
      "  bst.update(dtrain, iteration=i, fobj=obj)\n",
      "/Library/Frameworks/Python.framework/Versions/3.12/lib/python3.12/site-packages/xgboost/training.py:199: UserWarning: [18:42:59] WARNING: /Users/runner/work/xgboost/xgboost/src/learner.cc:790: \n",
      "Parameters: { \"use_label_encoder\" } are not used.\n",
      "\n",
      "  bst.update(dtrain, iteration=i, fobj=obj)\n"
     ]
    },
    {
     "name": "stdout",
     "output_type": "stream",
     "text": [
      "[CV] END gamma=0.5, learning_rate=0.05, max_depth=7, n_estimators=200, subsample=0.9; total time= 4.6min\n"
     ]
    },
    {
     "name": "stderr",
     "output_type": "stream",
     "text": [
      "/Library/Frameworks/Python.framework/Versions/3.12/lib/python3.12/site-packages/xgboost/training.py:199: UserWarning: [18:43:18] WARNING: /Users/runner/work/xgboost/xgboost/src/learner.cc:790: \n",
      "Parameters: { \"use_label_encoder\" } are not used.\n",
      "\n",
      "  bst.update(dtrain, iteration=i, fobj=obj)\n"
     ]
    },
    {
     "name": "stdout",
     "output_type": "stream",
     "text": [
      "[CV] END gamma=0.5, learning_rate=0.05, max_depth=7, n_estimators=200, subsample=0.9; total time= 4.9min\n"
     ]
    },
    {
     "name": "stderr",
     "output_type": "stream",
     "text": [
      "/Library/Frameworks/Python.framework/Versions/3.12/lib/python3.12/site-packages/xgboost/training.py:199: UserWarning: [18:43:29] WARNING: /Users/runner/work/xgboost/xgboost/src/learner.cc:790: \n",
      "Parameters: { \"use_label_encoder\" } are not used.\n",
      "\n",
      "  bst.update(dtrain, iteration=i, fobj=obj)\n"
     ]
    },
    {
     "name": "stdout",
     "output_type": "stream",
     "text": [
      "[CV] END gamma=0.5, learning_rate=0.05, max_depth=7, n_estimators=200, subsample=0.9; total time= 4.7min\n"
     ]
    },
    {
     "name": "stderr",
     "output_type": "stream",
     "text": [
      "/Library/Frameworks/Python.framework/Versions/3.12/lib/python3.12/site-packages/xgboost/training.py:199: UserWarning: [18:43:33] WARNING: /Users/runner/work/xgboost/xgboost/src/learner.cc:790: \n",
      "Parameters: { \"use_label_encoder\" } are not used.\n",
      "\n",
      "  bst.update(dtrain, iteration=i, fobj=obj)\n"
     ]
    },
    {
     "name": "stdout",
     "output_type": "stream",
     "text": [
      "[CV] END gamma=0.5, learning_rate=0.1, max_depth=9, n_estimators=300, subsample=1.0; total time= 3.1min\n"
     ]
    },
    {
     "name": "stderr",
     "output_type": "stream",
     "text": [
      "/Library/Frameworks/Python.framework/Versions/3.12/lib/python3.12/site-packages/xgboost/training.py:199: UserWarning: [18:43:41] WARNING: /Users/runner/work/xgboost/xgboost/src/learner.cc:790: \n",
      "Parameters: { \"use_label_encoder\" } are not used.\n",
      "\n",
      "  bst.update(dtrain, iteration=i, fobj=obj)\n"
     ]
    },
    {
     "name": "stdout",
     "output_type": "stream",
     "text": [
      "[CV] END gamma=0.1, learning_rate=0.2, max_depth=7, n_estimators=300, subsample=0.7; total time= 1.6min\n"
     ]
    },
    {
     "name": "stderr",
     "output_type": "stream",
     "text": [
      "/Library/Frameworks/Python.framework/Versions/3.12/lib/python3.12/site-packages/xgboost/training.py:199: UserWarning: [18:44:16] WARNING: /Users/runner/work/xgboost/xgboost/src/learner.cc:790: \n",
      "Parameters: { \"use_label_encoder\" } are not used.\n",
      "\n",
      "  bst.update(dtrain, iteration=i, fobj=obj)\n"
     ]
    },
    {
     "name": "stdout",
     "output_type": "stream",
     "text": [
      "[CV] END gamma=0.1, learning_rate=0.1, max_depth=5, n_estimators=200, subsample=1.0; total time= 1.9min\n"
     ]
    },
    {
     "name": "stderr",
     "output_type": "stream",
     "text": [
      "/Library/Frameworks/Python.framework/Versions/3.12/lib/python3.12/site-packages/xgboost/training.py:199: UserWarning: [18:45:12] WARNING: /Users/runner/work/xgboost/xgboost/src/learner.cc:790: \n",
      "Parameters: { \"use_label_encoder\" } are not used.\n",
      "\n",
      "  bst.update(dtrain, iteration=i, fobj=obj)\n"
     ]
    },
    {
     "name": "stdout",
     "output_type": "stream",
     "text": [
      "[CV] END gamma=0.1, learning_rate=0.1, max_depth=5, n_estimators=200, subsample=1.0; total time= 1.9min\n"
     ]
    },
    {
     "name": "stderr",
     "output_type": "stream",
     "text": [
      "/Library/Frameworks/Python.framework/Versions/3.12/lib/python3.12/site-packages/xgboost/training.py:199: UserWarning: [18:45:21] WARNING: /Users/runner/work/xgboost/xgboost/src/learner.cc:790: \n",
      "Parameters: { \"use_label_encoder\" } are not used.\n",
      "\n",
      "  bst.update(dtrain, iteration=i, fobj=obj)\n"
     ]
    },
    {
     "name": "stdout",
     "output_type": "stream",
     "text": [
      "[CV] END gamma=0.1, learning_rate=0.1, max_depth=5, n_estimators=200, subsample=1.0; total time= 1.9min\n"
     ]
    },
    {
     "name": "stderr",
     "output_type": "stream",
     "text": [
      "/Library/Frameworks/Python.framework/Versions/3.12/lib/python3.12/site-packages/xgboost/training.py:199: UserWarning: [18:45:30] WARNING: /Users/runner/work/xgboost/xgboost/src/learner.cc:790: \n",
      "Parameters: { \"use_label_encoder\" } are not used.\n",
      "\n",
      "  bst.update(dtrain, iteration=i, fobj=obj)\n"
     ]
    },
    {
     "name": "stdout",
     "output_type": "stream",
     "text": [
      "[CV] END gamma=0, learning_rate=0.05, max_depth=7, n_estimators=100, subsample=0.7; total time= 2.7min\n",
      "[CV] END gamma=0, learning_rate=0.05, max_depth=7, n_estimators=100, subsample=0.7; total time= 3.0min\n"
     ]
    },
    {
     "name": "stderr",
     "output_type": "stream",
     "text": [
      "/Library/Frameworks/Python.framework/Versions/3.12/lib/python3.12/site-packages/xgboost/training.py:199: UserWarning: [18:45:38] WARNING: /Users/runner/work/xgboost/xgboost/src/learner.cc:790: \n",
      "Parameters: { \"use_label_encoder\" } are not used.\n",
      "\n",
      "  bst.update(dtrain, iteration=i, fobj=obj)\n",
      "/Library/Frameworks/Python.framework/Versions/3.12/lib/python3.12/site-packages/xgboost/training.py:199: UserWarning: [18:45:39] WARNING: /Users/runner/work/xgboost/xgboost/src/learner.cc:790: \n",
      "Parameters: { \"use_label_encoder\" } are not used.\n",
      "\n",
      "  bst.update(dtrain, iteration=i, fobj=obj)\n"
     ]
    },
    {
     "name": "stdout",
     "output_type": "stream",
     "text": [
      "[CV] END gamma=0, learning_rate=0.05, max_depth=7, n_estimators=100, subsample=0.7; total time= 2.9min\n"
     ]
    },
    {
     "name": "stderr",
     "output_type": "stream",
     "text": [
      "/Library/Frameworks/Python.framework/Versions/3.12/lib/python3.12/site-packages/xgboost/training.py:199: UserWarning: [18:45:49] WARNING: /Users/runner/work/xgboost/xgboost/src/learner.cc:790: \n",
      "Parameters: { \"use_label_encoder\" } are not used.\n",
      "\n",
      "  bst.update(dtrain, iteration=i, fobj=obj)\n"
     ]
    },
    {
     "name": "stdout",
     "output_type": "stream",
     "text": [
      "[CV] END gamma=0, learning_rate=0.1, max_depth=9, n_estimators=100, subsample=0.7; total time= 3.2min\n"
     ]
    },
    {
     "name": "stderr",
     "output_type": "stream",
     "text": [
      "/Library/Frameworks/Python.framework/Versions/3.12/lib/python3.12/site-packages/xgboost/training.py:199: UserWarning: [18:46:55] WARNING: /Users/runner/work/xgboost/xgboost/src/learner.cc:790: \n",
      "Parameters: { \"use_label_encoder\" } are not used.\n",
      "\n",
      "  bst.update(dtrain, iteration=i, fobj=obj)\n"
     ]
    },
    {
     "name": "stdout",
     "output_type": "stream",
     "text": [
      "[CV] END gamma=0.5, learning_rate=0.2, max_depth=7, n_estimators=100, subsample=1.0; total time= 1.5min\n"
     ]
    },
    {
     "name": "stderr",
     "output_type": "stream",
     "text": [
      "/Library/Frameworks/Python.framework/Versions/3.12/lib/python3.12/site-packages/xgboost/training.py:199: UserWarning: [18:47:11] WARNING: /Users/runner/work/xgboost/xgboost/src/learner.cc:790: \n",
      "Parameters: { \"use_label_encoder\" } are not used.\n",
      "\n",
      "  bst.update(dtrain, iteration=i, fobj=obj)\n"
     ]
    },
    {
     "name": "stdout",
     "output_type": "stream",
     "text": [
      "[CV] END gamma=0.5, learning_rate=0.2, max_depth=7, n_estimators=100, subsample=1.0; total time= 1.5min\n"
     ]
    },
    {
     "name": "stderr",
     "output_type": "stream",
     "text": [
      "/Library/Frameworks/Python.framework/Versions/3.12/lib/python3.12/site-packages/xgboost/training.py:199: UserWarning: [18:47:17] WARNING: /Users/runner/work/xgboost/xgboost/src/learner.cc:790: \n",
      "Parameters: { \"use_label_encoder\" } are not used.\n",
      "\n",
      "  bst.update(dtrain, iteration=i, fobj=obj)\n"
     ]
    },
    {
     "name": "stdout",
     "output_type": "stream",
     "text": [
      "[CV] END gamma=0, learning_rate=0.1, max_depth=9, n_estimators=100, subsample=0.7; total time= 3.1min\n"
     ]
    },
    {
     "name": "stderr",
     "output_type": "stream",
     "text": [
      "/Library/Frameworks/Python.framework/Versions/3.12/lib/python3.12/site-packages/xgboost/training.py:199: UserWarning: [18:47:24] WARNING: /Users/runner/work/xgboost/xgboost/src/learner.cc:790: \n",
      "Parameters: { \"use_label_encoder\" } are not used.\n",
      "\n",
      "  bst.update(dtrain, iteration=i, fobj=obj)\n"
     ]
    },
    {
     "name": "stdout",
     "output_type": "stream",
     "text": [
      "[CV] END gamma=0, learning_rate=0.1, max_depth=9, n_estimators=100, subsample=0.7; total time= 3.2min\n"
     ]
    },
    {
     "name": "stderr",
     "output_type": "stream",
     "text": [
      "/Library/Frameworks/Python.framework/Versions/3.12/lib/python3.12/site-packages/xgboost/training.py:199: UserWarning: [18:48:22] WARNING: /Users/runner/work/xgboost/xgboost/src/learner.cc:790: \n",
      "Parameters: { \"use_label_encoder\" } are not used.\n",
      "\n",
      "  bst.update(dtrain, iteration=i, fobj=obj)\n"
     ]
    },
    {
     "name": "stdout",
     "output_type": "stream",
     "text": [
      "[CV] END gamma=0.5, learning_rate=0.2, max_depth=7, n_estimators=100, subsample=1.0; total time= 1.5min\n"
     ]
    },
    {
     "name": "stderr",
     "output_type": "stream",
     "text": [
      "/Library/Frameworks/Python.framework/Versions/3.12/lib/python3.12/site-packages/xgboost/training.py:199: UserWarning: [18:48:25] WARNING: /Users/runner/work/xgboost/xgboost/src/learner.cc:790: \n",
      "Parameters: { \"use_label_encoder\" } are not used.\n",
      "\n",
      "  bst.update(dtrain, iteration=i, fobj=obj)\n"
     ]
    },
    {
     "name": "stdout",
     "output_type": "stream",
     "text": [
      "[CV] END gamma=0.5, learning_rate=0.1, max_depth=9, n_estimators=100, subsample=1.0; total time= 3.2min\n"
     ]
    },
    {
     "name": "stderr",
     "output_type": "stream",
     "text": [
      "/Library/Frameworks/Python.framework/Versions/3.12/lib/python3.12/site-packages/xgboost/training.py:199: UserWarning: [18:48:44] WARNING: /Users/runner/work/xgboost/xgboost/src/learner.cc:790: \n",
      "Parameters: { \"use_label_encoder\" } are not used.\n",
      "\n",
      "  bst.update(dtrain, iteration=i, fobj=obj)\n"
     ]
    },
    {
     "name": "stdout",
     "output_type": "stream",
     "text": [
      "[CV] END gamma=0.5, learning_rate=0.1, max_depth=9, n_estimators=100, subsample=1.0; total time= 3.4min\n"
     ]
    },
    {
     "name": "stderr",
     "output_type": "stream",
     "text": [
      "/Library/Frameworks/Python.framework/Versions/3.12/lib/python3.12/site-packages/xgboost/training.py:199: UserWarning: [18:48:47] WARNING: /Users/runner/work/xgboost/xgboost/src/learner.cc:790: \n",
      "Parameters: { \"use_label_encoder\" } are not used.\n",
      "\n",
      "  bst.update(dtrain, iteration=i, fobj=obj)\n"
     ]
    },
    {
     "name": "stdout",
     "output_type": "stream",
     "text": [
      "[CV] END gamma=0.5, learning_rate=0.1, max_depth=9, n_estimators=100, subsample=1.0; total time= 3.3min\n"
     ]
    },
    {
     "name": "stderr",
     "output_type": "stream",
     "text": [
      "/Library/Frameworks/Python.framework/Versions/3.12/lib/python3.12/site-packages/xgboost/training.py:199: UserWarning: [18:48:56] WARNING: /Users/runner/work/xgboost/xgboost/src/learner.cc:790: \n",
      "Parameters: { \"use_label_encoder\" } are not used.\n",
      "\n",
      "  bst.update(dtrain, iteration=i, fobj=obj)\n"
     ]
    },
    {
     "name": "stdout",
     "output_type": "stream",
     "text": [
      "[CV] END gamma=0.1, learning_rate=0.05, max_depth=5, n_estimators=100, subsample=0.9; total time= 1.9min\n"
     ]
    },
    {
     "name": "stderr",
     "output_type": "stream",
     "text": [
      "/Library/Frameworks/Python.framework/Versions/3.12/lib/python3.12/site-packages/xgboost/training.py:199: UserWarning: [18:50:19] WARNING: /Users/runner/work/xgboost/xgboost/src/learner.cc:790: \n",
      "Parameters: { \"use_label_encoder\" } are not used.\n",
      "\n",
      "  bst.update(dtrain, iteration=i, fobj=obj)\n"
     ]
    },
    {
     "name": "stdout",
     "output_type": "stream",
     "text": [
      "[CV] END gamma=0.5, learning_rate=0.05, max_depth=5, n_estimators=300, subsample=1.0; total time= 3.1min\n",
      "[CV] END gamma=0.1, learning_rate=0.05, max_depth=5, n_estimators=100, subsample=0.9; total time= 2.1min\n"
     ]
    },
    {
     "name": "stderr",
     "output_type": "stream",
     "text": [
      "/Library/Frameworks/Python.framework/Versions/3.12/lib/python3.12/site-packages/xgboost/training.py:199: UserWarning: [18:50:24] WARNING: /Users/runner/work/xgboost/xgboost/src/learner.cc:790: \n",
      "Parameters: { \"use_label_encoder\" } are not used.\n",
      "\n",
      "  bst.update(dtrain, iteration=i, fobj=obj)\n",
      "/Library/Frameworks/Python.framework/Versions/3.12/lib/python3.12/site-packages/xgboost/training.py:199: UserWarning: [18:50:24] WARNING: /Users/runner/work/xgboost/xgboost/src/learner.cc:790: \n",
      "Parameters: { \"use_label_encoder\" } are not used.\n",
      "\n",
      "  bst.update(dtrain, iteration=i, fobj=obj)\n"
     ]
    },
    {
     "name": "stdout",
     "output_type": "stream",
     "text": [
      "[CV] END gamma=0.5, learning_rate=0.05, max_depth=5, n_estimators=300, subsample=1.0; total time= 3.4min\n"
     ]
    },
    {
     "name": "stderr",
     "output_type": "stream",
     "text": [
      "/Library/Frameworks/Python.framework/Versions/3.12/lib/python3.12/site-packages/xgboost/training.py:199: UserWarning: [18:50:32] WARNING: /Users/runner/work/xgboost/xgboost/src/learner.cc:790: \n",
      "Parameters: { \"use_label_encoder\" } are not used.\n",
      "\n",
      "  bst.update(dtrain, iteration=i, fobj=obj)\n"
     ]
    },
    {
     "name": "stdout",
     "output_type": "stream",
     "text": [
      "[CV] END gamma=0.5, learning_rate=0.05, max_depth=5, n_estimators=300, subsample=1.0; total time= 3.3min\n",
      "[CV] END gamma=0.1, learning_rate=0.05, max_depth=5, n_estimators=100, subsample=0.9; total time= 2.0min\n"
     ]
    },
    {
     "name": "stderr",
     "output_type": "stream",
     "text": [
      "/Library/Frameworks/Python.framework/Versions/3.12/lib/python3.12/site-packages/xgboost/training.py:199: UserWarning: [18:50:42] WARNING: /Users/runner/work/xgboost/xgboost/src/learner.cc:790: \n",
      "Parameters: { \"use_label_encoder\" } are not used.\n",
      "\n",
      "  bst.update(dtrain, iteration=i, fobj=obj)\n",
      "/Library/Frameworks/Python.framework/Versions/3.12/lib/python3.12/site-packages/xgboost/training.py:199: UserWarning: [18:50:43] WARNING: /Users/runner/work/xgboost/xgboost/src/learner.cc:790: \n",
      "Parameters: { \"use_label_encoder\" } are not used.\n",
      "\n",
      "  bst.update(dtrain, iteration=i, fobj=obj)\n"
     ]
    },
    {
     "name": "stdout",
     "output_type": "stream",
     "text": [
      "[CV] END gamma=0.1, learning_rate=0.2, max_depth=9, n_estimators=300, subsample=1.0; total time= 2.3min\n"
     ]
    },
    {
     "name": "stderr",
     "output_type": "stream",
     "text": [
      "/Library/Frameworks/Python.framework/Versions/3.12/lib/python3.12/site-packages/xgboost/training.py:199: UserWarning: [18:51:03] WARNING: /Users/runner/work/xgboost/xgboost/src/learner.cc:790: \n",
      "Parameters: { \"use_label_encoder\" } are not used.\n",
      "\n",
      "  bst.update(dtrain, iteration=i, fobj=obj)\n"
     ]
    },
    {
     "name": "stdout",
     "output_type": "stream",
     "text": [
      "[CV] END gamma=0.1, learning_rate=0.2, max_depth=9, n_estimators=300, subsample=1.0; total time= 2.2min\n"
     ]
    },
    {
     "name": "stderr",
     "output_type": "stream",
     "text": [
      "/Library/Frameworks/Python.framework/Versions/3.12/lib/python3.12/site-packages/xgboost/training.py:199: UserWarning: [18:51:07] WARNING: /Users/runner/work/xgboost/xgboost/src/learner.cc:790: \n",
      "Parameters: { \"use_label_encoder\" } are not used.\n",
      "\n",
      "  bst.update(dtrain, iteration=i, fobj=obj)\n"
     ]
    },
    {
     "name": "stdout",
     "output_type": "stream",
     "text": [
      "[CV] END gamma=0.5, learning_rate=0.2, max_depth=9, n_estimators=100, subsample=1.0; total time= 1.7min\n"
     ]
    },
    {
     "name": "stderr",
     "output_type": "stream",
     "text": [
      "/Library/Frameworks/Python.framework/Versions/3.12/lib/python3.12/site-packages/xgboost/training.py:199: UserWarning: [18:52:06] WARNING: /Users/runner/work/xgboost/xgboost/src/learner.cc:790: \n",
      "Parameters: { \"use_label_encoder\" } are not used.\n",
      "\n",
      "  bst.update(dtrain, iteration=i, fobj=obj)\n"
     ]
    },
    {
     "name": "stdout",
     "output_type": "stream",
     "text": [
      "[CV] END gamma=0.5, learning_rate=0.2, max_depth=9, n_estimators=100, subsample=1.0; total time= 1.8min\n"
     ]
    },
    {
     "name": "stderr",
     "output_type": "stream",
     "text": [
      "/Library/Frameworks/Python.framework/Versions/3.12/lib/python3.12/site-packages/xgboost/training.py:199: UserWarning: [18:52:12] WARNING: /Users/runner/work/xgboost/xgboost/src/learner.cc:790: \n",
      "Parameters: { \"use_label_encoder\" } are not used.\n",
      "\n",
      "  bst.update(dtrain, iteration=i, fobj=obj)\n"
     ]
    },
    {
     "name": "stdout",
     "output_type": "stream",
     "text": [
      "[CV] END gamma=0.5, learning_rate=0.2, max_depth=9, n_estimators=100, subsample=1.0; total time= 1.8min\n"
     ]
    },
    {
     "name": "stderr",
     "output_type": "stream",
     "text": [
      "/Library/Frameworks/Python.framework/Versions/3.12/lib/python3.12/site-packages/xgboost/training.py:199: UserWarning: [18:52:21] WARNING: /Users/runner/work/xgboost/xgboost/src/learner.cc:790: \n",
      "Parameters: { \"use_label_encoder\" } are not used.\n",
      "\n",
      "  bst.update(dtrain, iteration=i, fobj=obj)\n"
     ]
    },
    {
     "name": "stdout",
     "output_type": "stream",
     "text": [
      "[CV] END gamma=0.1, learning_rate=0.2, max_depth=9, n_estimators=300, subsample=1.0; total time= 2.4min\n"
     ]
    },
    {
     "name": "stderr",
     "output_type": "stream",
     "text": [
      "/Library/Frameworks/Python.framework/Versions/3.12/lib/python3.12/site-packages/xgboost/training.py:199: UserWarning: [18:52:42] WARNING: /Users/runner/work/xgboost/xgboost/src/learner.cc:790: \n",
      "Parameters: { \"use_label_encoder\" } are not used.\n",
      "\n",
      "  bst.update(dtrain, iteration=i, fobj=obj)\n"
     ]
    },
    {
     "name": "stdout",
     "output_type": "stream",
     "text": [
      "[CV] END gamma=0, learning_rate=0.2, max_depth=7, n_estimators=200, subsample=0.7; total time= 2.0min\n"
     ]
    },
    {
     "name": "stderr",
     "output_type": "stream",
     "text": [
      "/Library/Frameworks/Python.framework/Versions/3.12/lib/python3.12/site-packages/xgboost/training.py:199: UserWarning: [18:53:04] WARNING: /Users/runner/work/xgboost/xgboost/src/learner.cc:790: \n",
      "Parameters: { \"use_label_encoder\" } are not used.\n",
      "\n",
      "  bst.update(dtrain, iteration=i, fobj=obj)\n"
     ]
    },
    {
     "name": "stdout",
     "output_type": "stream",
     "text": [
      "[CV] END gamma=0, learning_rate=0.2, max_depth=7, n_estimators=200, subsample=0.7; total time= 1.7min\n",
      "[CV] END gamma=0, learning_rate=0.2, max_depth=7, n_estimators=200, subsample=0.7; total time= 1.8min\n",
      "[CV] END gamma=0.1, learning_rate=0.1, max_depth=9, n_estimators=100, subsample=0.9; total time= 2.9min\n",
      "[CV] END gamma=0, learning_rate=0.05, max_depth=7, n_estimators=300, subsample=0.7; total time= 4.5min\n",
      "[CV] END gamma=0.1, learning_rate=0.1, max_depth=9, n_estimators=100, subsample=0.9; total time= 2.6min\n",
      "[CV] END gamma=0, learning_rate=0.05, max_depth=7, n_estimators=300, subsample=0.7; total time= 4.7min\n",
      "[CV] END gamma=0.1, learning_rate=0.1, max_depth=9, n_estimators=100, subsample=0.9; total time= 2.3min\n",
      "[CV] END gamma=0, learning_rate=0.05, max_depth=7, n_estimators=300, subsample=0.7; total time= 4.4min\n"
     ]
    },
    {
     "name": "stderr",
     "output_type": "stream",
     "text": [
      "/Library/Frameworks/Python.framework/Versions/3.12/lib/python3.12/site-packages/xgboost/training.py:199: UserWarning: [18:55:23] WARNING: /Users/runner/work/xgboost/xgboost/src/learner.cc:790: \n",
      "Parameters: { \"use_label_encoder\" } are not used.\n",
      "\n",
      "  bst.update(dtrain, iteration=i, fobj=obj)\n"
     ]
    },
    {
     "name": "stdout",
     "output_type": "stream",
     "text": [
      "\n",
      "✅ Best Cross-Validation AUC-ROC Score: 0.9998\n",
      "Optimal Parameters: {'subsample': 0.7, 'n_estimators': 300, 'max_depth': 5, 'learning_rate': 0.05, 'gamma': 0}\n"
     ]
    }
   ],
   "source": [
    "from sklearn.model_selection import RandomizedSearchCV\n",
    "\n",
    "print(\"\\n--- Hyperparameter Tuning (Randomized Search) ---\")\n",
    "\n",
    "# Define a reasonable search space for XGBoost parameters\n",
    "param_grid = {\n",
    "    'n_estimators': [100, 200, 300],  # Number of boosting rounds\n",
    "    'max_depth': [5, 7, 9],           # Maximum tree depth\n",
    "    'learning_rate': [0.05, 0.1, 0.2], # Step size shrinkage\n",
    "    'gamma': [0, 0.1, 0.5],           # Minimum loss reduction required to make a further partition\n",
    "    'subsample': [0.7, 0.9, 1.0]      # Subsample ratio of the training instances\n",
    "}\n",
    "\n",
    "# Initialize Randomized Search CV\n",
    "# n_iter: number of parameter settings that are sampled.\n",
    "# scoring: Use AUC-ROC as the primary tuning metric.\n",
    "random_search = RandomizedSearchCV(\n",
    "    estimator=xgb.XGBClassifier(use_label_encoder=False, eval_metric='logloss', random_state=42),\n",
    "    param_distributions=param_grid,\n",
    "    n_iter=20, # Test 20 random combinations\n",
    "    scoring='roc_auc',\n",
    "    cv=3,       # 3-fold cross-validation\n",
    "    verbose=2,\n",
    "    random_state=42,\n",
    "    n_jobs=-1\n",
    ")\n",
    "\n",
    "# Run the search on the training data\n",
    "random_search.fit(X_train_tfidf, y_train)\n",
    "\n",
    "# Get the best estimator and score\n",
    "best_xgb = random_search.best_estimator_\n",
    "best_score = random_search.best_score_\n",
    "\n",
    "print(f\"\\n✅ Best Cross-Validation AUC-ROC Score: {best_score:.4f}\")\n",
    "print(f\"Optimal Parameters: {random_search.best_params_}\")"
   ]
  },
  {
   "cell_type": "markdown",
   "id": "1d3c4fc8",
   "metadata": {},
   "source": [
    "### 6. Final Model Selection and Artifact Saving\n",
    "\n",
    "Evaluate the final best model on the test set and save the key artifacts needed for deployment."
   ]
  },
  {
   "cell_type": "code",
   "execution_count": 15,
   "id": "edf2108d",
   "metadata": {},
   "outputs": [
    {
     "name": "stdout",
     "output_type": "stream",
     "text": [
      "\n",
      "--- Final Tuned Model Performance on Test Set ---\n",
      "Final Tuned XGBoost AUC-ROC: 0.9997\n",
      "\n",
      "Classification Report:\n",
      "              precision    recall  f1-score   support\n",
      "\n",
      "    Fake (0)       1.00      0.99      1.00      3581\n",
      "    Real (1)       1.00      1.00      1.00      4239\n",
      "\n",
      "    accuracy                           1.00      7820\n",
      "   macro avg       1.00      1.00      1.00      7820\n",
      "weighted avg       1.00      1.00      1.00      7820\n",
      "\n"
     ]
    }
   ],
   "source": [
    "from sklearn.metrics import confusion_matrix\n",
    "from joblib import dump # Use joblib for efficient saving of large models/vectorizers\n",
    "import seaborn as sns\n",
    "import matplotlib.pyplot as plt\n",
    "\n",
    "# 1. Final Model Evaluation (on Unseen Test Set)\n",
    "print(\"\\n--- Final Tuned Model Performance on Test Set ---\")\n",
    "\n",
    "# Predict using the best model found during tuning\n",
    "y_pred_tuned = best_xgb.predict(X_test_tfidf)\n",
    "y_pred_proba_tuned = best_xgb.predict_proba(X_test_tfidf)[:, 1]\n",
    "\n",
    "# Final AUC-ROC Score\n",
    "final_auc_roc = roc_auc_score(y_test, y_pred_proba_tuned)\n",
    "print(f\"Final Tuned XGBoost AUC-ROC: {final_auc_roc:.4f}\")\n",
    "\n",
    "# Classification Report\n",
    "print(\"\\nClassification Report:\")\n",
    "print(classification_report(y_test, y_pred_tuned, target_names=['Fake (0)', 'Real (1)']))\n"
   ]
  },
  {
   "cell_type": "code",
   "execution_count": 16,
   "id": "1030c424",
   "metadata": {},
   "outputs": [
    {
     "data": {
      "image/png": "[encoded data removed]",
      "text/plain": [
       "<Figure size 800x600 with 2 Axes>"
      ]
     },
     "metadata": {},
     "output_type": "display_data"
    }
   ],
   "source": [
    "# 2. Confusion Matrix Visualization\n",
    "cm = confusion_matrix(y_test, y_pred_tuned)\n",
    "plt.figure(figsize=(8, 6))\n",
    "sns.heatmap(cm, annot=True, fmt='d', cmap='Blues', \n",
    "            xticklabels=['Predicted Fake', 'Predicted Real'], \n",
    "            yticklabels=['Actual Fake', 'Actual Real'])\n",
    "plt.title('Confusion Matrix for Tuned XGBoost Model')\n",
    "plt.ylabel('Actual Label')\n",
    "plt.xlabel('Predicted Label')\n",
    "plt.show()"
   ]
  },
  {
   "cell_type": "code",
   "execution_count": 17,
   "id": "0c6b8af8",
   "metadata": {},
   "outputs": [
    {
     "name": "stdout",
     "output_type": "stream",
     "text": [
      "\n",
      "--- Saving Model Artifacts ---\n",
      "Saved: tfidf_vectorizer.joblib\n",
      "Saved: final_xgb_model.joblib\n"
     ]
    }
   ],
   "source": [
    "# 3. Saving Model and Vectorizer Artifacts\n",
    "print(\"\\n--- Saving Model Artifacts ---\")\n",
    "\n",
    "import os\n",
    "\n",
    "# Create a models directory if it doesn't exist\n",
    "os.makedirs('../models', exist_ok=True) \n",
    "\n",
    "# Save the fitted TF-IDF Vectorizer\n",
    "dump(tfidf_vectorizer, '../models/tfidf_vectorizer.joblib')\n",
    "print(\"Saved: tfidf_vectorizer.joblib\")\n",
    "\n",
    "# Save the final Tuned Model\n",
    "dump(best_xgb, '../models/final_xgb_model.joblib')\n",
    "print(\"Saved: final_xgb_model.joblib\")"
   ]
  }
 ],
 "metadata": {
  "kernelspec": {
   "display_name": "Python 3",
   "language": "python",
   "name": "python3"
  },
  "language_info": {
   "codemirror_mode": {
    "name": "ipython",
    "version": 3
   },
   "file_extension": ".py",
   "mimetype": "text/x-python",
   "name": "python",
   "nbconvert_exporter": "python",
   "pygments_lexer": "ipython3",
   "version": "3.12.3"
  }
 },
 "nbformat": 4,
 "nbformat_minor": 5
}
